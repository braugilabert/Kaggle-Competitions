{
 "cells": [
  {
   "attachments": {},
   "cell_type": "markdown",
   "metadata": {},
   "source": [
    "## PROYECTO LAPTOPS"
   ]
  },
  {
   "cell_type": "code",
   "execution_count": 65,
   "metadata": {},
   "outputs": [],
   "source": [
    "import numpy as np\n",
    "import pandas as pd\n",
    "import matplotlib.pyplot as plt\n",
    "import seaborn as sns"
   ]
  },
  {
   "cell_type": "code",
   "execution_count": 66,
   "metadata": {},
   "outputs": [
    {
     "data": {
      "text/html": [
       "<div>\n",
       "<style scoped>\n",
       "    .dataframe tbody tr th:only-of-type {\n",
       "        vertical-align: middle;\n",
       "    }\n",
       "\n",
       "    .dataframe tbody tr th {\n",
       "        vertical-align: top;\n",
       "    }\n",
       "\n",
       "    .dataframe thead th {\n",
       "        text-align: right;\n",
       "    }\n",
       "</style>\n",
       "<table border=\"1\" class=\"dataframe\">\n",
       "  <thead>\n",
       "    <tr style=\"text-align: right;\">\n",
       "      <th></th>\n",
       "      <th>id</th>\n",
       "      <th>laptop_ID</th>\n",
       "      <th>Company</th>\n",
       "      <th>Product</th>\n",
       "      <th>TypeName</th>\n",
       "      <th>Inches</th>\n",
       "      <th>ScreenResolution</th>\n",
       "      <th>Cpu</th>\n",
       "      <th>Ram</th>\n",
       "      <th>Memory</th>\n",
       "      <th>Gpu</th>\n",
       "      <th>OpSys</th>\n",
       "      <th>Weight</th>\n",
       "      <th>Price_euros</th>\n",
       "    </tr>\n",
       "  </thead>\n",
       "  <tbody>\n",
       "    <tr>\n",
       "      <th>0</th>\n",
       "      <td>697</td>\n",
       "      <td>705</td>\n",
       "      <td>Asus</td>\n",
       "      <td>Chromebook Flip</td>\n",
       "      <td>2 in 1 Convertible</td>\n",
       "      <td>12.5</td>\n",
       "      <td>Full HD / Touchscreen 1920x1080</td>\n",
       "      <td>Intel Core M M3-6Y30 0.9GHz</td>\n",
       "      <td>4GB</td>\n",
       "      <td>64GB Flash Storage</td>\n",
       "      <td>Intel HD Graphics 515</td>\n",
       "      <td>Chrome OS</td>\n",
       "      <td>1.2kg</td>\n",
       "      <td>669.0</td>\n",
       "    </tr>\n",
       "    <tr>\n",
       "      <th>1</th>\n",
       "      <td>435</td>\n",
       "      <td>442</td>\n",
       "      <td>Asus</td>\n",
       "      <td>Rog Strix</td>\n",
       "      <td>Gaming</td>\n",
       "      <td>17.3</td>\n",
       "      <td>Full HD 1920x1080</td>\n",
       "      <td>AMD Ryzen 1600 3.2GHz</td>\n",
       "      <td>8GB</td>\n",
       "      <td>256GB SSD +  1TB HDD</td>\n",
       "      <td>AMD Radeon RX 580</td>\n",
       "      <td>Windows 10</td>\n",
       "      <td>3.2kg</td>\n",
       "      <td>1695.0</td>\n",
       "    </tr>\n",
       "    <tr>\n",
       "      <th>2</th>\n",
       "      <td>735</td>\n",
       "      <td>743</td>\n",
       "      <td>Lenovo</td>\n",
       "      <td>V310-15IKB (i7-7500U/4GB/1TB/FHD/W10)</td>\n",
       "      <td>Notebook</td>\n",
       "      <td>15.6</td>\n",
       "      <td>Full HD 1920x1080</td>\n",
       "      <td>Intel Core i7 7500U 2.7GHz</td>\n",
       "      <td>4GB</td>\n",
       "      <td>1TB HDD</td>\n",
       "      <td>Intel HD Graphics 620</td>\n",
       "      <td>Windows 10</td>\n",
       "      <td>1.85kg</td>\n",
       "      <td>779.0</td>\n",
       "    </tr>\n",
       "  </tbody>\n",
       "</table>\n",
       "</div>"
      ],
      "text/plain": [
       "    id  laptop_ID Company                                Product  \\\n",
       "0  697        705    Asus                        Chromebook Flip   \n",
       "1  435        442    Asus                              Rog Strix   \n",
       "2  735        743  Lenovo  V310-15IKB (i7-7500U/4GB/1TB/FHD/W10)   \n",
       "\n",
       "             TypeName  Inches                 ScreenResolution  \\\n",
       "0  2 in 1 Convertible    12.5  Full HD / Touchscreen 1920x1080   \n",
       "1              Gaming    17.3                Full HD 1920x1080   \n",
       "2            Notebook    15.6                Full HD 1920x1080   \n",
       "\n",
       "                           Cpu  Ram                Memory  \\\n",
       "0  Intel Core M M3-6Y30 0.9GHz  4GB    64GB Flash Storage   \n",
       "1        AMD Ryzen 1600 3.2GHz  8GB  256GB SSD +  1TB HDD   \n",
       "2   Intel Core i7 7500U 2.7GHz  4GB               1TB HDD   \n",
       "\n",
       "                     Gpu       OpSys  Weight  Price_euros  \n",
       "0  Intel HD Graphics 515   Chrome OS   1.2kg        669.0  \n",
       "1      AMD Radeon RX 580  Windows 10   3.2kg       1695.0  \n",
       "2  Intel HD Graphics 620  Windows 10  1.85kg        779.0  "
      ]
     },
     "execution_count": 66,
     "metadata": {},
     "output_type": "execute_result"
    }
   ],
   "source": [
    "train = pd.read_csv('train.csv')\n",
    "train.head(3)"
   ]
  },
  {
   "cell_type": "code",
   "execution_count": 67,
   "metadata": {},
   "outputs": [
    {
     "data": {
      "text/html": [
       "<div>\n",
       "<style scoped>\n",
       "    .dataframe tbody tr th:only-of-type {\n",
       "        vertical-align: middle;\n",
       "    }\n",
       "\n",
       "    .dataframe tbody tr th {\n",
       "        vertical-align: top;\n",
       "    }\n",
       "\n",
       "    .dataframe thead th {\n",
       "        text-align: right;\n",
       "    }\n",
       "</style>\n",
       "<table border=\"1\" class=\"dataframe\">\n",
       "  <thead>\n",
       "    <tr style=\"text-align: right;\">\n",
       "      <th></th>\n",
       "      <th>id</th>\n",
       "      <th>laptop_ID</th>\n",
       "      <th>Company</th>\n",
       "      <th>Product</th>\n",
       "      <th>TypeName</th>\n",
       "      <th>Inches</th>\n",
       "      <th>ScreenResolution</th>\n",
       "      <th>Cpu</th>\n",
       "      <th>Ram</th>\n",
       "      <th>Memory</th>\n",
       "      <th>Gpu</th>\n",
       "      <th>OpSys</th>\n",
       "      <th>Weight</th>\n",
       "      <th>Price_euros</th>\n",
       "      <th>Ram_Int</th>\n",
       "    </tr>\n",
       "  </thead>\n",
       "  <tbody>\n",
       "    <tr>\n",
       "      <th>0</th>\n",
       "      <td>697</td>\n",
       "      <td>705</td>\n",
       "      <td>Asus</td>\n",
       "      <td>Chromebook Flip</td>\n",
       "      <td>2 in 1 Convertible</td>\n",
       "      <td>12.5</td>\n",
       "      <td>Full HD / Touchscreen 1920x1080</td>\n",
       "      <td>Intel Core M M3-6Y30 0.9GHz</td>\n",
       "      <td>4GB</td>\n",
       "      <td>64GB Flash Storage</td>\n",
       "      <td>Intel HD Graphics 515</td>\n",
       "      <td>Chrome OS</td>\n",
       "      <td>1.2kg</td>\n",
       "      <td>669.0</td>\n",
       "      <td>4</td>\n",
       "    </tr>\n",
       "    <tr>\n",
       "      <th>1</th>\n",
       "      <td>435</td>\n",
       "      <td>442</td>\n",
       "      <td>Asus</td>\n",
       "      <td>Rog Strix</td>\n",
       "      <td>Gaming</td>\n",
       "      <td>17.3</td>\n",
       "      <td>Full HD 1920x1080</td>\n",
       "      <td>AMD Ryzen 1600 3.2GHz</td>\n",
       "      <td>8GB</td>\n",
       "      <td>256GB SSD +  1TB HDD</td>\n",
       "      <td>AMD Radeon RX 580</td>\n",
       "      <td>Windows 10</td>\n",
       "      <td>3.2kg</td>\n",
       "      <td>1695.0</td>\n",
       "      <td>8</td>\n",
       "    </tr>\n",
       "    <tr>\n",
       "      <th>2</th>\n",
       "      <td>735</td>\n",
       "      <td>743</td>\n",
       "      <td>Lenovo</td>\n",
       "      <td>V310-15IKB (i7-7500U/4GB/1TB/FHD/W10)</td>\n",
       "      <td>Notebook</td>\n",
       "      <td>15.6</td>\n",
       "      <td>Full HD 1920x1080</td>\n",
       "      <td>Intel Core i7 7500U 2.7GHz</td>\n",
       "      <td>4GB</td>\n",
       "      <td>1TB HDD</td>\n",
       "      <td>Intel HD Graphics 620</td>\n",
       "      <td>Windows 10</td>\n",
       "      <td>1.85kg</td>\n",
       "      <td>779.0</td>\n",
       "      <td>4</td>\n",
       "    </tr>\n",
       "  </tbody>\n",
       "</table>\n",
       "</div>"
      ],
      "text/plain": [
       "    id  laptop_ID Company                                Product  \\\n",
       "0  697        705    Asus                        Chromebook Flip   \n",
       "1  435        442    Asus                              Rog Strix   \n",
       "2  735        743  Lenovo  V310-15IKB (i7-7500U/4GB/1TB/FHD/W10)   \n",
       "\n",
       "             TypeName  Inches                 ScreenResolution  \\\n",
       "0  2 in 1 Convertible    12.5  Full HD / Touchscreen 1920x1080   \n",
       "1              Gaming    17.3                Full HD 1920x1080   \n",
       "2            Notebook    15.6                Full HD 1920x1080   \n",
       "\n",
       "                           Cpu  Ram                Memory  \\\n",
       "0  Intel Core M M3-6Y30 0.9GHz  4GB    64GB Flash Storage   \n",
       "1        AMD Ryzen 1600 3.2GHz  8GB  256GB SSD +  1TB HDD   \n",
       "2   Intel Core i7 7500U 2.7GHz  4GB               1TB HDD   \n",
       "\n",
       "                     Gpu       OpSys  Weight  Price_euros  Ram_Int  \n",
       "0  Intel HD Graphics 515   Chrome OS   1.2kg        669.0        4  \n",
       "1      AMD Radeon RX 580  Windows 10   3.2kg       1695.0        8  \n",
       "2  Intel HD Graphics 620  Windows 10  1.85kg        779.0        4  "
      ]
     },
     "execution_count": 67,
     "metadata": {},
     "output_type": "execute_result"
    }
   ],
   "source": [
    "#para quitarle a la columna de RAM lo de GB\n",
    "train['Ram_Int'] = train['Ram'].str[0:-2].astype('int')\n",
    "train.head(3)"
   ]
  },
  {
   "cell_type": "code",
   "execution_count": 68,
   "metadata": {},
   "outputs": [
    {
     "data": {
      "text/html": [
       "<div>\n",
       "<style scoped>\n",
       "    .dataframe tbody tr th:only-of-type {\n",
       "        vertical-align: middle;\n",
       "    }\n",
       "\n",
       "    .dataframe tbody tr th {\n",
       "        vertical-align: top;\n",
       "    }\n",
       "\n",
       "    .dataframe thead th {\n",
       "        text-align: right;\n",
       "    }\n",
       "</style>\n",
       "<table border=\"1\" class=\"dataframe\">\n",
       "  <thead>\n",
       "    <tr style=\"text-align: right;\">\n",
       "      <th></th>\n",
       "      <th>id</th>\n",
       "      <th>laptop_ID</th>\n",
       "      <th>Company</th>\n",
       "      <th>Product</th>\n",
       "      <th>TypeName</th>\n",
       "      <th>Inches</th>\n",
       "      <th>ScreenResolution</th>\n",
       "      <th>Cpu</th>\n",
       "      <th>Ram</th>\n",
       "      <th>Memory</th>\n",
       "      <th>Gpu</th>\n",
       "      <th>OpSys</th>\n",
       "      <th>Weight</th>\n",
       "      <th>Price_euros</th>\n",
       "      <th>Ram_Int</th>\n",
       "      <th>Weight_int</th>\n",
       "    </tr>\n",
       "  </thead>\n",
       "  <tbody>\n",
       "    <tr>\n",
       "      <th>0</th>\n",
       "      <td>697</td>\n",
       "      <td>705</td>\n",
       "      <td>Asus</td>\n",
       "      <td>Chromebook Flip</td>\n",
       "      <td>2 in 1 Convertible</td>\n",
       "      <td>12.5</td>\n",
       "      <td>Full HD / Touchscreen 1920x1080</td>\n",
       "      <td>Intel Core M M3-6Y30 0.9GHz</td>\n",
       "      <td>4GB</td>\n",
       "      <td>64GB Flash Storage</td>\n",
       "      <td>Intel HD Graphics 515</td>\n",
       "      <td>Chrome OS</td>\n",
       "      <td>1.2kg</td>\n",
       "      <td>669.0</td>\n",
       "      <td>4</td>\n",
       "      <td>1.20</td>\n",
       "    </tr>\n",
       "    <tr>\n",
       "      <th>1</th>\n",
       "      <td>435</td>\n",
       "      <td>442</td>\n",
       "      <td>Asus</td>\n",
       "      <td>Rog Strix</td>\n",
       "      <td>Gaming</td>\n",
       "      <td>17.3</td>\n",
       "      <td>Full HD 1920x1080</td>\n",
       "      <td>AMD Ryzen 1600 3.2GHz</td>\n",
       "      <td>8GB</td>\n",
       "      <td>256GB SSD +  1TB HDD</td>\n",
       "      <td>AMD Radeon RX 580</td>\n",
       "      <td>Windows 10</td>\n",
       "      <td>3.2kg</td>\n",
       "      <td>1695.0</td>\n",
       "      <td>8</td>\n",
       "      <td>3.20</td>\n",
       "    </tr>\n",
       "    <tr>\n",
       "      <th>2</th>\n",
       "      <td>735</td>\n",
       "      <td>743</td>\n",
       "      <td>Lenovo</td>\n",
       "      <td>V310-15IKB (i7-7500U/4GB/1TB/FHD/W10)</td>\n",
       "      <td>Notebook</td>\n",
       "      <td>15.6</td>\n",
       "      <td>Full HD 1920x1080</td>\n",
       "      <td>Intel Core i7 7500U 2.7GHz</td>\n",
       "      <td>4GB</td>\n",
       "      <td>1TB HDD</td>\n",
       "      <td>Intel HD Graphics 620</td>\n",
       "      <td>Windows 10</td>\n",
       "      <td>1.85kg</td>\n",
       "      <td>779.0</td>\n",
       "      <td>4</td>\n",
       "      <td>1.85</td>\n",
       "    </tr>\n",
       "  </tbody>\n",
       "</table>\n",
       "</div>"
      ],
      "text/plain": [
       "    id  laptop_ID Company                                Product  \\\n",
       "0  697        705    Asus                        Chromebook Flip   \n",
       "1  435        442    Asus                              Rog Strix   \n",
       "2  735        743  Lenovo  V310-15IKB (i7-7500U/4GB/1TB/FHD/W10)   \n",
       "\n",
       "             TypeName  Inches                 ScreenResolution  \\\n",
       "0  2 in 1 Convertible    12.5  Full HD / Touchscreen 1920x1080   \n",
       "1              Gaming    17.3                Full HD 1920x1080   \n",
       "2            Notebook    15.6                Full HD 1920x1080   \n",
       "\n",
       "                           Cpu  Ram                Memory  \\\n",
       "0  Intel Core M M3-6Y30 0.9GHz  4GB    64GB Flash Storage   \n",
       "1        AMD Ryzen 1600 3.2GHz  8GB  256GB SSD +  1TB HDD   \n",
       "2   Intel Core i7 7500U 2.7GHz  4GB               1TB HDD   \n",
       "\n",
       "                     Gpu       OpSys  Weight  Price_euros  Ram_Int  Weight_int  \n",
       "0  Intel HD Graphics 515   Chrome OS   1.2kg        669.0        4        1.20  \n",
       "1      AMD Radeon RX 580  Windows 10   3.2kg       1695.0        8        3.20  \n",
       "2  Intel HD Graphics 620  Windows 10  1.85kg        779.0        4        1.85  "
      ]
     },
     "execution_count": 68,
     "metadata": {},
     "output_type": "execute_result"
    }
   ],
   "source": [
    "#para quitarle a la columna de peso lo de kg\n",
    "train['Weight_int'] = train['Weight'].str[0:-2].astype('float') #sin el cambiar a int porq ya es\n",
    "train.head(3)"
   ]
  },
  {
   "cell_type": "code",
   "execution_count": 69,
   "metadata": {},
   "outputs": [
    {
     "data": {
      "text/html": [
       "<div>\n",
       "<style scoped>\n",
       "    .dataframe tbody tr th:only-of-type {\n",
       "        vertical-align: middle;\n",
       "    }\n",
       "\n",
       "    .dataframe tbody tr th {\n",
       "        vertical-align: top;\n",
       "    }\n",
       "\n",
       "    .dataframe thead th {\n",
       "        text-align: right;\n",
       "    }\n",
       "</style>\n",
       "<table border=\"1\" class=\"dataframe\">\n",
       "  <thead>\n",
       "    <tr style=\"text-align: right;\">\n",
       "      <th></th>\n",
       "      <th>id</th>\n",
       "      <th>laptop_ID</th>\n",
       "      <th>Company</th>\n",
       "      <th>Product</th>\n",
       "      <th>TypeName</th>\n",
       "      <th>Inches</th>\n",
       "      <th>ScreenResolution</th>\n",
       "      <th>Cpu</th>\n",
       "      <th>Ram</th>\n",
       "      <th>Memory</th>\n",
       "      <th>Gpu</th>\n",
       "      <th>OpSys</th>\n",
       "      <th>Weight</th>\n",
       "      <th>Price_euros</th>\n",
       "      <th>Ram_Int</th>\n",
       "      <th>Weight_int</th>\n",
       "      <th>hz</th>\n",
       "    </tr>\n",
       "  </thead>\n",
       "  <tbody>\n",
       "    <tr>\n",
       "      <th>0</th>\n",
       "      <td>697</td>\n",
       "      <td>705</td>\n",
       "      <td>Asus</td>\n",
       "      <td>Chromebook Flip</td>\n",
       "      <td>2 in 1 Convertible</td>\n",
       "      <td>12.5</td>\n",
       "      <td>Full HD / Touchscreen 1920x1080</td>\n",
       "      <td>Intel Core M M3-6Y30 0.9GHz</td>\n",
       "      <td>4GB</td>\n",
       "      <td>64GB Flash Storage</td>\n",
       "      <td>Intel HD Graphics 515</td>\n",
       "      <td>Chrome OS</td>\n",
       "      <td>1.2kg</td>\n",
       "      <td>669.0</td>\n",
       "      <td>4</td>\n",
       "      <td>1.20</td>\n",
       "      <td>0.9GHz</td>\n",
       "    </tr>\n",
       "    <tr>\n",
       "      <th>1</th>\n",
       "      <td>435</td>\n",
       "      <td>442</td>\n",
       "      <td>Asus</td>\n",
       "      <td>Rog Strix</td>\n",
       "      <td>Gaming</td>\n",
       "      <td>17.3</td>\n",
       "      <td>Full HD 1920x1080</td>\n",
       "      <td>AMD Ryzen 1600 3.2GHz</td>\n",
       "      <td>8GB</td>\n",
       "      <td>256GB SSD +  1TB HDD</td>\n",
       "      <td>AMD Radeon RX 580</td>\n",
       "      <td>Windows 10</td>\n",
       "      <td>3.2kg</td>\n",
       "      <td>1695.0</td>\n",
       "      <td>8</td>\n",
       "      <td>3.20</td>\n",
       "      <td>3.2GHz</td>\n",
       "    </tr>\n",
       "    <tr>\n",
       "      <th>2</th>\n",
       "      <td>735</td>\n",
       "      <td>743</td>\n",
       "      <td>Lenovo</td>\n",
       "      <td>V310-15IKB (i7-7500U/4GB/1TB/FHD/W10)</td>\n",
       "      <td>Notebook</td>\n",
       "      <td>15.6</td>\n",
       "      <td>Full HD 1920x1080</td>\n",
       "      <td>Intel Core i7 7500U 2.7GHz</td>\n",
       "      <td>4GB</td>\n",
       "      <td>1TB HDD</td>\n",
       "      <td>Intel HD Graphics 620</td>\n",
       "      <td>Windows 10</td>\n",
       "      <td>1.85kg</td>\n",
       "      <td>779.0</td>\n",
       "      <td>4</td>\n",
       "      <td>1.85</td>\n",
       "      <td>2.7GHz</td>\n",
       "    </tr>\n",
       "  </tbody>\n",
       "</table>\n",
       "</div>"
      ],
      "text/plain": [
       "    id  laptop_ID Company                                Product  \\\n",
       "0  697        705    Asus                        Chromebook Flip   \n",
       "1  435        442    Asus                              Rog Strix   \n",
       "2  735        743  Lenovo  V310-15IKB (i7-7500U/4GB/1TB/FHD/W10)   \n",
       "\n",
       "             TypeName  Inches                 ScreenResolution  \\\n",
       "0  2 in 1 Convertible    12.5  Full HD / Touchscreen 1920x1080   \n",
       "1              Gaming    17.3                Full HD 1920x1080   \n",
       "2            Notebook    15.6                Full HD 1920x1080   \n",
       "\n",
       "                           Cpu  Ram                Memory  \\\n",
       "0  Intel Core M M3-6Y30 0.9GHz  4GB    64GB Flash Storage   \n",
       "1        AMD Ryzen 1600 3.2GHz  8GB  256GB SSD +  1TB HDD   \n",
       "2   Intel Core i7 7500U 2.7GHz  4GB               1TB HDD   \n",
       "\n",
       "                     Gpu       OpSys  Weight  Price_euros  Ram_Int  \\\n",
       "0  Intel HD Graphics 515   Chrome OS   1.2kg        669.0        4   \n",
       "1      AMD Radeon RX 580  Windows 10   3.2kg       1695.0        8   \n",
       "2  Intel HD Graphics 620  Windows 10  1.85kg        779.0        4   \n",
       "\n",
       "   Weight_int      hz  \n",
       "0        1.20  0.9GHz  \n",
       "1        3.20  3.2GHz  \n",
       "2        1.85  2.7GHz  "
      ]
     },
     "execution_count": 69,
     "metadata": {},
     "output_type": "execute_result"
    }
   ],
   "source": [
    "train['hz'] = train['Cpu'].str.split().str[-1] #para coger solo la palabra de x.xHz\n",
    "train.head(3)\n"
   ]
  },
  {
   "cell_type": "code",
   "execution_count": 70,
   "metadata": {},
   "outputs": [],
   "source": [
    "train['hz_int'] = train['hz'].str[0:-3].astype('float')"
   ]
  },
  {
   "cell_type": "code",
   "execution_count": 71,
   "metadata": {},
   "outputs": [
    {
     "data": {
      "text/plain": [
       "\" from sklearn.preprocessing import LabelEncoder\\n\\nle = LabelEncoder()\\ntrain['marca_int'] = le.fit_transform(train['marca'])\\ntrain.head(3) \""
      ]
     },
     "execution_count": 71,
     "metadata": {},
     "output_type": "execute_result"
    }
   ],
   "source": [
    "\"\"\" train['marca'] = train['Product'].str.split().str[0]\n",
    "train.head(3) \"\"\"\n",
    "\n",
    "\"\"\" from sklearn.preprocessing import LabelEncoder\n",
    "\n",
    "le = LabelEncoder()\n",
    "train['marca_int'] = le.fit_transform(train['marca'])\n",
    "train.head(3) \"\"\""
   ]
  },
  {
   "cell_type": "code",
   "execution_count": 72,
   "metadata": {},
   "outputs": [
    {
     "data": {
      "text/html": [
       "<div>\n",
       "<style scoped>\n",
       "    .dataframe tbody tr th:only-of-type {\n",
       "        vertical-align: middle;\n",
       "    }\n",
       "\n",
       "    .dataframe tbody tr th {\n",
       "        vertical-align: top;\n",
       "    }\n",
       "\n",
       "    .dataframe thead th {\n",
       "        text-align: right;\n",
       "    }\n",
       "</style>\n",
       "<table border=\"1\" class=\"dataframe\">\n",
       "  <thead>\n",
       "    <tr style=\"text-align: right;\">\n",
       "      <th></th>\n",
       "      <th>id</th>\n",
       "      <th>laptop_ID</th>\n",
       "      <th>Company</th>\n",
       "      <th>Product</th>\n",
       "      <th>TypeName</th>\n",
       "      <th>Inches</th>\n",
       "      <th>ScreenResolution</th>\n",
       "      <th>Cpu</th>\n",
       "      <th>Ram</th>\n",
       "      <th>Memory</th>\n",
       "      <th>Gpu</th>\n",
       "      <th>OpSys</th>\n",
       "      <th>Weight</th>\n",
       "      <th>Price_euros</th>\n",
       "      <th>Ram_Int</th>\n",
       "      <th>Weight_int</th>\n",
       "      <th>hz</th>\n",
       "      <th>hz_int</th>\n",
       "      <th>Company_int</th>\n",
       "    </tr>\n",
       "  </thead>\n",
       "  <tbody>\n",
       "    <tr>\n",
       "      <th>0</th>\n",
       "      <td>697</td>\n",
       "      <td>705</td>\n",
       "      <td>Asus</td>\n",
       "      <td>Chromebook Flip</td>\n",
       "      <td>2 in 1 Convertible</td>\n",
       "      <td>12.5</td>\n",
       "      <td>Full HD / Touchscreen 1920x1080</td>\n",
       "      <td>Intel Core M M3-6Y30 0.9GHz</td>\n",
       "      <td>4GB</td>\n",
       "      <td>64GB Flash Storage</td>\n",
       "      <td>Intel HD Graphics 515</td>\n",
       "      <td>Chrome OS</td>\n",
       "      <td>1.2kg</td>\n",
       "      <td>669.0</td>\n",
       "      <td>4</td>\n",
       "      <td>1.20</td>\n",
       "      <td>0.9GHz</td>\n",
       "      <td>0.9</td>\n",
       "      <td>2</td>\n",
       "    </tr>\n",
       "    <tr>\n",
       "      <th>1</th>\n",
       "      <td>435</td>\n",
       "      <td>442</td>\n",
       "      <td>Asus</td>\n",
       "      <td>Rog Strix</td>\n",
       "      <td>Gaming</td>\n",
       "      <td>17.3</td>\n",
       "      <td>Full HD 1920x1080</td>\n",
       "      <td>AMD Ryzen 1600 3.2GHz</td>\n",
       "      <td>8GB</td>\n",
       "      <td>256GB SSD +  1TB HDD</td>\n",
       "      <td>AMD Radeon RX 580</td>\n",
       "      <td>Windows 10</td>\n",
       "      <td>3.2kg</td>\n",
       "      <td>1695.0</td>\n",
       "      <td>8</td>\n",
       "      <td>3.20</td>\n",
       "      <td>3.2GHz</td>\n",
       "      <td>3.2</td>\n",
       "      <td>2</td>\n",
       "    </tr>\n",
       "    <tr>\n",
       "      <th>2</th>\n",
       "      <td>735</td>\n",
       "      <td>743</td>\n",
       "      <td>Lenovo</td>\n",
       "      <td>V310-15IKB (i7-7500U/4GB/1TB/FHD/W10)</td>\n",
       "      <td>Notebook</td>\n",
       "      <td>15.6</td>\n",
       "      <td>Full HD 1920x1080</td>\n",
       "      <td>Intel Core i7 7500U 2.7GHz</td>\n",
       "      <td>4GB</td>\n",
       "      <td>1TB HDD</td>\n",
       "      <td>Intel HD Graphics 620</td>\n",
       "      <td>Windows 10</td>\n",
       "      <td>1.85kg</td>\n",
       "      <td>779.0</td>\n",
       "      <td>4</td>\n",
       "      <td>1.85</td>\n",
       "      <td>2.7GHz</td>\n",
       "      <td>2.7</td>\n",
       "      <td>10</td>\n",
       "    </tr>\n",
       "  </tbody>\n",
       "</table>\n",
       "</div>"
      ],
      "text/plain": [
       "    id  laptop_ID Company                                Product  \\\n",
       "0  697        705    Asus                        Chromebook Flip   \n",
       "1  435        442    Asus                              Rog Strix   \n",
       "2  735        743  Lenovo  V310-15IKB (i7-7500U/4GB/1TB/FHD/W10)   \n",
       "\n",
       "             TypeName  Inches                 ScreenResolution  \\\n",
       "0  2 in 1 Convertible    12.5  Full HD / Touchscreen 1920x1080   \n",
       "1              Gaming    17.3                Full HD 1920x1080   \n",
       "2            Notebook    15.6                Full HD 1920x1080   \n",
       "\n",
       "                           Cpu  Ram                Memory  \\\n",
       "0  Intel Core M M3-6Y30 0.9GHz  4GB    64GB Flash Storage   \n",
       "1        AMD Ryzen 1600 3.2GHz  8GB  256GB SSD +  1TB HDD   \n",
       "2   Intel Core i7 7500U 2.7GHz  4GB               1TB HDD   \n",
       "\n",
       "                     Gpu       OpSys  Weight  Price_euros  Ram_Int  \\\n",
       "0  Intel HD Graphics 515   Chrome OS   1.2kg        669.0        4   \n",
       "1      AMD Radeon RX 580  Windows 10   3.2kg       1695.0        8   \n",
       "2  Intel HD Graphics 620  Windows 10  1.85kg        779.0        4   \n",
       "\n",
       "   Weight_int      hz  hz_int  Company_int  \n",
       "0        1.20  0.9GHz     0.9            2  \n",
       "1        3.20  3.2GHz     3.2            2  \n",
       "2        1.85  2.7GHz     2.7           10  "
      ]
     },
     "execution_count": 72,
     "metadata": {},
     "output_type": "execute_result"
    }
   ],
   "source": [
    "from sklearn.preprocessing import LabelEncoder\n",
    "\n",
    "le = LabelEncoder()\n",
    "train['Company_int'] = le.fit_transform(train['Company'])\n",
    "train.head(3)"
   ]
  },
  {
   "cell_type": "code",
   "execution_count": 73,
   "metadata": {},
   "outputs": [
    {
     "data": {
      "text/plain": [
       "array(['Asus', 'Lenovo', 'Dell', 'Mediacom', 'Toshiba', 'HP', 'Acer',\n",
       "       'Apple', 'MSI', 'Fujitsu', 'Samsung', 'Chuwi', 'Microsoft',\n",
       "       'Razer', 'Xiaomi', 'Huawei', 'Google', 'Vero', 'LG'], dtype=object)"
      ]
     },
     "execution_count": 73,
     "metadata": {},
     "output_type": "execute_result"
    }
   ],
   "source": [
    "train['Company'].unique()"
   ]
  },
  {
   "cell_type": "code",
   "execution_count": 74,
   "metadata": {},
   "outputs": [
    {
     "data": {
      "text/html": [
       "<div>\n",
       "<style scoped>\n",
       "    .dataframe tbody tr th:only-of-type {\n",
       "        vertical-align: middle;\n",
       "    }\n",
       "\n",
       "    .dataframe tbody tr th {\n",
       "        vertical-align: top;\n",
       "    }\n",
       "\n",
       "    .dataframe thead th {\n",
       "        text-align: right;\n",
       "    }\n",
       "</style>\n",
       "<table border=\"1\" class=\"dataframe\">\n",
       "  <thead>\n",
       "    <tr style=\"text-align: right;\">\n",
       "      <th></th>\n",
       "      <th>id</th>\n",
       "      <th>laptop_ID</th>\n",
       "      <th>Company</th>\n",
       "      <th>Product</th>\n",
       "      <th>TypeName</th>\n",
       "      <th>Inches</th>\n",
       "      <th>ScreenResolution</th>\n",
       "      <th>Cpu</th>\n",
       "      <th>Ram</th>\n",
       "      <th>Memory</th>\n",
       "      <th>Gpu</th>\n",
       "      <th>OpSys</th>\n",
       "      <th>Weight</th>\n",
       "      <th>Price_euros</th>\n",
       "      <th>Ram_Int</th>\n",
       "      <th>Weight_int</th>\n",
       "      <th>hz</th>\n",
       "      <th>hz_int</th>\n",
       "      <th>Company_int</th>\n",
       "      <th>ScreenResolution_int</th>\n",
       "    </tr>\n",
       "  </thead>\n",
       "  <tbody>\n",
       "    <tr>\n",
       "      <th>0</th>\n",
       "      <td>697</td>\n",
       "      <td>705</td>\n",
       "      <td>Asus</td>\n",
       "      <td>Chromebook Flip</td>\n",
       "      <td>2 in 1 Convertible</td>\n",
       "      <td>12.5</td>\n",
       "      <td>Full HD / Touchscreen 1920x1080</td>\n",
       "      <td>Intel Core M M3-6Y30 0.9GHz</td>\n",
       "      <td>4GB</td>\n",
       "      <td>64GB Flash Storage</td>\n",
       "      <td>Intel HD Graphics 515</td>\n",
       "      <td>Chrome OS</td>\n",
       "      <td>1.2kg</td>\n",
       "      <td>669.0</td>\n",
       "      <td>4</td>\n",
       "      <td>1.20</td>\n",
       "      <td>0.9GHz</td>\n",
       "      <td>0.9</td>\n",
       "      <td>2</td>\n",
       "      <td>7</td>\n",
       "    </tr>\n",
       "    <tr>\n",
       "      <th>1</th>\n",
       "      <td>435</td>\n",
       "      <td>442</td>\n",
       "      <td>Asus</td>\n",
       "      <td>Rog Strix</td>\n",
       "      <td>Gaming</td>\n",
       "      <td>17.3</td>\n",
       "      <td>Full HD 1920x1080</td>\n",
       "      <td>AMD Ryzen 1600 3.2GHz</td>\n",
       "      <td>8GB</td>\n",
       "      <td>256GB SSD +  1TB HDD</td>\n",
       "      <td>AMD Radeon RX 580</td>\n",
       "      <td>Windows 10</td>\n",
       "      <td>3.2kg</td>\n",
       "      <td>1695.0</td>\n",
       "      <td>8</td>\n",
       "      <td>3.20</td>\n",
       "      <td>3.2GHz</td>\n",
       "      <td>3.2</td>\n",
       "      <td>2</td>\n",
       "      <td>8</td>\n",
       "    </tr>\n",
       "    <tr>\n",
       "      <th>2</th>\n",
       "      <td>735</td>\n",
       "      <td>743</td>\n",
       "      <td>Lenovo</td>\n",
       "      <td>V310-15IKB (i7-7500U/4GB/1TB/FHD/W10)</td>\n",
       "      <td>Notebook</td>\n",
       "      <td>15.6</td>\n",
       "      <td>Full HD 1920x1080</td>\n",
       "      <td>Intel Core i7 7500U 2.7GHz</td>\n",
       "      <td>4GB</td>\n",
       "      <td>1TB HDD</td>\n",
       "      <td>Intel HD Graphics 620</td>\n",
       "      <td>Windows 10</td>\n",
       "      <td>1.85kg</td>\n",
       "      <td>779.0</td>\n",
       "      <td>4</td>\n",
       "      <td>1.85</td>\n",
       "      <td>2.7GHz</td>\n",
       "      <td>2.7</td>\n",
       "      <td>10</td>\n",
       "      <td>8</td>\n",
       "    </tr>\n",
       "  </tbody>\n",
       "</table>\n",
       "</div>"
      ],
      "text/plain": [
       "    id  laptop_ID Company                                Product  \\\n",
       "0  697        705    Asus                        Chromebook Flip   \n",
       "1  435        442    Asus                              Rog Strix   \n",
       "2  735        743  Lenovo  V310-15IKB (i7-7500U/4GB/1TB/FHD/W10)   \n",
       "\n",
       "             TypeName  Inches                 ScreenResolution  \\\n",
       "0  2 in 1 Convertible    12.5  Full HD / Touchscreen 1920x1080   \n",
       "1              Gaming    17.3                Full HD 1920x1080   \n",
       "2            Notebook    15.6                Full HD 1920x1080   \n",
       "\n",
       "                           Cpu  Ram                Memory  \\\n",
       "0  Intel Core M M3-6Y30 0.9GHz  4GB    64GB Flash Storage   \n",
       "1        AMD Ryzen 1600 3.2GHz  8GB  256GB SSD +  1TB HDD   \n",
       "2   Intel Core i7 7500U 2.7GHz  4GB               1TB HDD   \n",
       "\n",
       "                     Gpu       OpSys  Weight  Price_euros  Ram_Int  \\\n",
       "0  Intel HD Graphics 515   Chrome OS   1.2kg        669.0        4   \n",
       "1      AMD Radeon RX 580  Windows 10   3.2kg       1695.0        8   \n",
       "2  Intel HD Graphics 620  Windows 10  1.85kg        779.0        4   \n",
       "\n",
       "   Weight_int      hz  hz_int  Company_int  ScreenResolution_int  \n",
       "0        1.20  0.9GHz     0.9            2                     7  \n",
       "1        3.20  3.2GHz     3.2            2                     8  \n",
       "2        1.85  2.7GHz     2.7           10                     8  "
      ]
     },
     "execution_count": 74,
     "metadata": {},
     "output_type": "execute_result"
    }
   ],
   "source": [
    "from sklearn.preprocessing import LabelEncoder\n",
    "\n",
    "le = LabelEncoder()\n",
    "train['ScreenResolution_int'] = le.fit_transform(train['ScreenResolution'])\n",
    "train.head(3)"
   ]
  },
  {
   "cell_type": "code",
   "execution_count": 75,
   "metadata": {},
   "outputs": [
    {
     "data": {
      "text/html": [
       "<div>\n",
       "<style scoped>\n",
       "    .dataframe tbody tr th:only-of-type {\n",
       "        vertical-align: middle;\n",
       "    }\n",
       "\n",
       "    .dataframe tbody tr th {\n",
       "        vertical-align: top;\n",
       "    }\n",
       "\n",
       "    .dataframe thead th {\n",
       "        text-align: right;\n",
       "    }\n",
       "</style>\n",
       "<table border=\"1\" class=\"dataframe\">\n",
       "  <thead>\n",
       "    <tr style=\"text-align: right;\">\n",
       "      <th></th>\n",
       "      <th>id</th>\n",
       "      <th>laptop_ID</th>\n",
       "      <th>Company</th>\n",
       "      <th>Product</th>\n",
       "      <th>TypeName</th>\n",
       "      <th>Inches</th>\n",
       "      <th>ScreenResolution</th>\n",
       "      <th>Cpu</th>\n",
       "      <th>Ram</th>\n",
       "      <th>Memory</th>\n",
       "      <th>...</th>\n",
       "      <th>OpSys</th>\n",
       "      <th>Weight</th>\n",
       "      <th>Price_euros</th>\n",
       "      <th>Ram_Int</th>\n",
       "      <th>Weight_int</th>\n",
       "      <th>hz</th>\n",
       "      <th>hz_int</th>\n",
       "      <th>Company_int</th>\n",
       "      <th>ScreenResolution_int</th>\n",
       "      <th>Cpu_int</th>\n",
       "    </tr>\n",
       "  </thead>\n",
       "  <tbody>\n",
       "    <tr>\n",
       "      <th>0</th>\n",
       "      <td>697</td>\n",
       "      <td>705</td>\n",
       "      <td>Asus</td>\n",
       "      <td>Chromebook Flip</td>\n",
       "      <td>2 in 1 Convertible</td>\n",
       "      <td>12.5</td>\n",
       "      <td>Full HD / Touchscreen 1920x1080</td>\n",
       "      <td>Intel Core M M3-6Y30 0.9GHz</td>\n",
       "      <td>4GB</td>\n",
       "      <td>64GB Flash Storage</td>\n",
       "      <td>...</td>\n",
       "      <td>Chrome OS</td>\n",
       "      <td>1.2kg</td>\n",
       "      <td>669.0</td>\n",
       "      <td>4</td>\n",
       "      <td>1.20</td>\n",
       "      <td>0.9GHz</td>\n",
       "      <td>0.9</td>\n",
       "      <td>2</td>\n",
       "      <td>7</td>\n",
       "      <td>40</td>\n",
       "    </tr>\n",
       "    <tr>\n",
       "      <th>1</th>\n",
       "      <td>435</td>\n",
       "      <td>442</td>\n",
       "      <td>Asus</td>\n",
       "      <td>Rog Strix</td>\n",
       "      <td>Gaming</td>\n",
       "      <td>17.3</td>\n",
       "      <td>Full HD 1920x1080</td>\n",
       "      <td>AMD Ryzen 1600 3.2GHz</td>\n",
       "      <td>8GB</td>\n",
       "      <td>256GB SSD +  1TB HDD</td>\n",
       "      <td>...</td>\n",
       "      <td>Windows 10</td>\n",
       "      <td>3.2kg</td>\n",
       "      <td>1695.0</td>\n",
       "      <td>8</td>\n",
       "      <td>3.20</td>\n",
       "      <td>3.2GHz</td>\n",
       "      <td>3.2</td>\n",
       "      <td>2</td>\n",
       "      <td>8</td>\n",
       "      <td>21</td>\n",
       "    </tr>\n",
       "    <tr>\n",
       "      <th>2</th>\n",
       "      <td>735</td>\n",
       "      <td>743</td>\n",
       "      <td>Lenovo</td>\n",
       "      <td>V310-15IKB (i7-7500U/4GB/1TB/FHD/W10)</td>\n",
       "      <td>Notebook</td>\n",
       "      <td>15.6</td>\n",
       "      <td>Full HD 1920x1080</td>\n",
       "      <td>Intel Core i7 7500U 2.7GHz</td>\n",
       "      <td>4GB</td>\n",
       "      <td>1TB HDD</td>\n",
       "      <td>...</td>\n",
       "      <td>Windows 10</td>\n",
       "      <td>1.85kg</td>\n",
       "      <td>779.0</td>\n",
       "      <td>4</td>\n",
       "      <td>1.85</td>\n",
       "      <td>2.7GHz</td>\n",
       "      <td>2.7</td>\n",
       "      <td>10</td>\n",
       "      <td>8</td>\n",
       "      <td>82</td>\n",
       "    </tr>\n",
       "  </tbody>\n",
       "</table>\n",
       "<p>3 rows × 21 columns</p>\n",
       "</div>"
      ],
      "text/plain": [
       "    id  laptop_ID Company                                Product  \\\n",
       "0  697        705    Asus                        Chromebook Flip   \n",
       "1  435        442    Asus                              Rog Strix   \n",
       "2  735        743  Lenovo  V310-15IKB (i7-7500U/4GB/1TB/FHD/W10)   \n",
       "\n",
       "             TypeName  Inches                 ScreenResolution  \\\n",
       "0  2 in 1 Convertible    12.5  Full HD / Touchscreen 1920x1080   \n",
       "1              Gaming    17.3                Full HD 1920x1080   \n",
       "2            Notebook    15.6                Full HD 1920x1080   \n",
       "\n",
       "                           Cpu  Ram                Memory  ...       OpSys  \\\n",
       "0  Intel Core M M3-6Y30 0.9GHz  4GB    64GB Flash Storage  ...   Chrome OS   \n",
       "1        AMD Ryzen 1600 3.2GHz  8GB  256GB SSD +  1TB HDD  ...  Windows 10   \n",
       "2   Intel Core i7 7500U 2.7GHz  4GB               1TB HDD  ...  Windows 10   \n",
       "\n",
       "   Weight Price_euros  Ram_Int  Weight_int      hz hz_int  Company_int  \\\n",
       "0   1.2kg       669.0        4        1.20  0.9GHz    0.9            2   \n",
       "1   3.2kg      1695.0        8        3.20  3.2GHz    3.2            2   \n",
       "2  1.85kg       779.0        4        1.85  2.7GHz    2.7           10   \n",
       "\n",
       "   ScreenResolution_int  Cpu_int  \n",
       "0                     7       40  \n",
       "1                     8       21  \n",
       "2                     8       82  \n",
       "\n",
       "[3 rows x 21 columns]"
      ]
     },
     "execution_count": 75,
     "metadata": {},
     "output_type": "execute_result"
    }
   ],
   "source": [
    "from sklearn.preprocessing import LabelEncoder\n",
    "\n",
    "le = LabelEncoder()\n",
    "train['Cpu_int'] = le.fit_transform(train['Cpu'])\n",
    "train.head(3)"
   ]
  },
  {
   "cell_type": "code",
   "execution_count": 76,
   "metadata": {},
   "outputs": [
    {
     "data": {
      "text/html": [
       "<div>\n",
       "<style scoped>\n",
       "    .dataframe tbody tr th:only-of-type {\n",
       "        vertical-align: middle;\n",
       "    }\n",
       "\n",
       "    .dataframe tbody tr th {\n",
       "        vertical-align: top;\n",
       "    }\n",
       "\n",
       "    .dataframe thead th {\n",
       "        text-align: right;\n",
       "    }\n",
       "</style>\n",
       "<table border=\"1\" class=\"dataframe\">\n",
       "  <thead>\n",
       "    <tr style=\"text-align: right;\">\n",
       "      <th></th>\n",
       "      <th>id</th>\n",
       "      <th>laptop_ID</th>\n",
       "      <th>Company</th>\n",
       "      <th>Product</th>\n",
       "      <th>TypeName</th>\n",
       "      <th>Inches</th>\n",
       "      <th>ScreenResolution</th>\n",
       "      <th>Cpu</th>\n",
       "      <th>Ram</th>\n",
       "      <th>Memory</th>\n",
       "      <th>...</th>\n",
       "      <th>Weight</th>\n",
       "      <th>Price_euros</th>\n",
       "      <th>Ram_Int</th>\n",
       "      <th>Weight_int</th>\n",
       "      <th>hz</th>\n",
       "      <th>hz_int</th>\n",
       "      <th>Company_int</th>\n",
       "      <th>ScreenResolution_int</th>\n",
       "      <th>Cpu_int</th>\n",
       "      <th>TypeName_int</th>\n",
       "    </tr>\n",
       "  </thead>\n",
       "  <tbody>\n",
       "    <tr>\n",
       "      <th>0</th>\n",
       "      <td>697</td>\n",
       "      <td>705</td>\n",
       "      <td>Asus</td>\n",
       "      <td>Chromebook Flip</td>\n",
       "      <td>2 in 1 Convertible</td>\n",
       "      <td>12.5</td>\n",
       "      <td>Full HD / Touchscreen 1920x1080</td>\n",
       "      <td>Intel Core M M3-6Y30 0.9GHz</td>\n",
       "      <td>4GB</td>\n",
       "      <td>64GB Flash Storage</td>\n",
       "      <td>...</td>\n",
       "      <td>1.2kg</td>\n",
       "      <td>669.0</td>\n",
       "      <td>4</td>\n",
       "      <td>1.20</td>\n",
       "      <td>0.9GHz</td>\n",
       "      <td>0.9</td>\n",
       "      <td>2</td>\n",
       "      <td>7</td>\n",
       "      <td>40</td>\n",
       "      <td>0</td>\n",
       "    </tr>\n",
       "    <tr>\n",
       "      <th>1</th>\n",
       "      <td>435</td>\n",
       "      <td>442</td>\n",
       "      <td>Asus</td>\n",
       "      <td>Rog Strix</td>\n",
       "      <td>Gaming</td>\n",
       "      <td>17.3</td>\n",
       "      <td>Full HD 1920x1080</td>\n",
       "      <td>AMD Ryzen 1600 3.2GHz</td>\n",
       "      <td>8GB</td>\n",
       "      <td>256GB SSD +  1TB HDD</td>\n",
       "      <td>...</td>\n",
       "      <td>3.2kg</td>\n",
       "      <td>1695.0</td>\n",
       "      <td>8</td>\n",
       "      <td>3.20</td>\n",
       "      <td>3.2GHz</td>\n",
       "      <td>3.2</td>\n",
       "      <td>2</td>\n",
       "      <td>8</td>\n",
       "      <td>21</td>\n",
       "      <td>1</td>\n",
       "    </tr>\n",
       "    <tr>\n",
       "      <th>2</th>\n",
       "      <td>735</td>\n",
       "      <td>743</td>\n",
       "      <td>Lenovo</td>\n",
       "      <td>V310-15IKB (i7-7500U/4GB/1TB/FHD/W10)</td>\n",
       "      <td>Notebook</td>\n",
       "      <td>15.6</td>\n",
       "      <td>Full HD 1920x1080</td>\n",
       "      <td>Intel Core i7 7500U 2.7GHz</td>\n",
       "      <td>4GB</td>\n",
       "      <td>1TB HDD</td>\n",
       "      <td>...</td>\n",
       "      <td>1.85kg</td>\n",
       "      <td>779.0</td>\n",
       "      <td>4</td>\n",
       "      <td>1.85</td>\n",
       "      <td>2.7GHz</td>\n",
       "      <td>2.7</td>\n",
       "      <td>10</td>\n",
       "      <td>8</td>\n",
       "      <td>82</td>\n",
       "      <td>3</td>\n",
       "    </tr>\n",
       "  </tbody>\n",
       "</table>\n",
       "<p>3 rows × 22 columns</p>\n",
       "</div>"
      ],
      "text/plain": [
       "    id  laptop_ID Company                                Product  \\\n",
       "0  697        705    Asus                        Chromebook Flip   \n",
       "1  435        442    Asus                              Rog Strix   \n",
       "2  735        743  Lenovo  V310-15IKB (i7-7500U/4GB/1TB/FHD/W10)   \n",
       "\n",
       "             TypeName  Inches                 ScreenResolution  \\\n",
       "0  2 in 1 Convertible    12.5  Full HD / Touchscreen 1920x1080   \n",
       "1              Gaming    17.3                Full HD 1920x1080   \n",
       "2            Notebook    15.6                Full HD 1920x1080   \n",
       "\n",
       "                           Cpu  Ram                Memory  ...  Weight  \\\n",
       "0  Intel Core M M3-6Y30 0.9GHz  4GB    64GB Flash Storage  ...   1.2kg   \n",
       "1        AMD Ryzen 1600 3.2GHz  8GB  256GB SSD +  1TB HDD  ...   3.2kg   \n",
       "2   Intel Core i7 7500U 2.7GHz  4GB               1TB HDD  ...  1.85kg   \n",
       "\n",
       "  Price_euros Ram_Int  Weight_int      hz  hz_int Company_int  \\\n",
       "0       669.0       4        1.20  0.9GHz     0.9           2   \n",
       "1      1695.0       8        3.20  3.2GHz     3.2           2   \n",
       "2       779.0       4        1.85  2.7GHz     2.7          10   \n",
       "\n",
       "   ScreenResolution_int  Cpu_int  TypeName_int  \n",
       "0                     7       40             0  \n",
       "1                     8       21             1  \n",
       "2                     8       82             3  \n",
       "\n",
       "[3 rows x 22 columns]"
      ]
     },
     "execution_count": 76,
     "metadata": {},
     "output_type": "execute_result"
    }
   ],
   "source": [
    "from sklearn.preprocessing import LabelEncoder\n",
    "\n",
    "le = LabelEncoder()\n",
    "train['TypeName_int'] = le.fit_transform(train['TypeName'])\n",
    "train.head(3)"
   ]
  },
  {
   "cell_type": "code",
   "execution_count": 77,
   "metadata": {},
   "outputs": [
    {
     "data": {
      "text/html": [
       "<div>\n",
       "<style scoped>\n",
       "    .dataframe tbody tr th:only-of-type {\n",
       "        vertical-align: middle;\n",
       "    }\n",
       "\n",
       "    .dataframe tbody tr th {\n",
       "        vertical-align: top;\n",
       "    }\n",
       "\n",
       "    .dataframe thead th {\n",
       "        text-align: right;\n",
       "    }\n",
       "</style>\n",
       "<table border=\"1\" class=\"dataframe\">\n",
       "  <thead>\n",
       "    <tr style=\"text-align: right;\">\n",
       "      <th></th>\n",
       "      <th>id</th>\n",
       "      <th>laptop_ID</th>\n",
       "      <th>Company</th>\n",
       "      <th>Product</th>\n",
       "      <th>TypeName</th>\n",
       "      <th>Inches</th>\n",
       "      <th>ScreenResolution</th>\n",
       "      <th>Cpu</th>\n",
       "      <th>Ram</th>\n",
       "      <th>Memory</th>\n",
       "      <th>...</th>\n",
       "      <th>Price_euros</th>\n",
       "      <th>Ram_Int</th>\n",
       "      <th>Weight_int</th>\n",
       "      <th>hz</th>\n",
       "      <th>hz_int</th>\n",
       "      <th>Company_int</th>\n",
       "      <th>ScreenResolution_int</th>\n",
       "      <th>Cpu_int</th>\n",
       "      <th>TypeName_int</th>\n",
       "      <th>Memory_int</th>\n",
       "    </tr>\n",
       "  </thead>\n",
       "  <tbody>\n",
       "    <tr>\n",
       "      <th>0</th>\n",
       "      <td>697</td>\n",
       "      <td>705</td>\n",
       "      <td>Asus</td>\n",
       "      <td>Chromebook Flip</td>\n",
       "      <td>2 in 1 Convertible</td>\n",
       "      <td>12.5</td>\n",
       "      <td>Full HD / Touchscreen 1920x1080</td>\n",
       "      <td>Intel Core M M3-6Y30 0.9GHz</td>\n",
       "      <td>4GB</td>\n",
       "      <td>64GB Flash Storage</td>\n",
       "      <td>...</td>\n",
       "      <td>669.0</td>\n",
       "      <td>4</td>\n",
       "      <td>1.20</td>\n",
       "      <td>0.9GHz</td>\n",
       "      <td>0.9</td>\n",
       "      <td>2</td>\n",
       "      <td>7</td>\n",
       "      <td>40</td>\n",
       "      <td>0</td>\n",
       "      <td>32</td>\n",
       "    </tr>\n",
       "    <tr>\n",
       "      <th>1</th>\n",
       "      <td>435</td>\n",
       "      <td>442</td>\n",
       "      <td>Asus</td>\n",
       "      <td>Rog Strix</td>\n",
       "      <td>Gaming</td>\n",
       "      <td>17.3</td>\n",
       "      <td>Full HD 1920x1080</td>\n",
       "      <td>AMD Ryzen 1600 3.2GHz</td>\n",
       "      <td>8GB</td>\n",
       "      <td>256GB SSD +  1TB HDD</td>\n",
       "      <td>...</td>\n",
       "      <td>1695.0</td>\n",
       "      <td>8</td>\n",
       "      <td>3.20</td>\n",
       "      <td>3.2GHz</td>\n",
       "      <td>3.2</td>\n",
       "      <td>2</td>\n",
       "      <td>8</td>\n",
       "      <td>21</td>\n",
       "      <td>1</td>\n",
       "      <td>16</td>\n",
       "    </tr>\n",
       "    <tr>\n",
       "      <th>2</th>\n",
       "      <td>735</td>\n",
       "      <td>743</td>\n",
       "      <td>Lenovo</td>\n",
       "      <td>V310-15IKB (i7-7500U/4GB/1TB/FHD/W10)</td>\n",
       "      <td>Notebook</td>\n",
       "      <td>15.6</td>\n",
       "      <td>Full HD 1920x1080</td>\n",
       "      <td>Intel Core i7 7500U 2.7GHz</td>\n",
       "      <td>4GB</td>\n",
       "      <td>1TB HDD</td>\n",
       "      <td>...</td>\n",
       "      <td>779.0</td>\n",
       "      <td>4</td>\n",
       "      <td>1.85</td>\n",
       "      <td>2.7GHz</td>\n",
       "      <td>2.7</td>\n",
       "      <td>10</td>\n",
       "      <td>8</td>\n",
       "      <td>82</td>\n",
       "      <td>3</td>\n",
       "      <td>8</td>\n",
       "    </tr>\n",
       "  </tbody>\n",
       "</table>\n",
       "<p>3 rows × 23 columns</p>\n",
       "</div>"
      ],
      "text/plain": [
       "    id  laptop_ID Company                                Product  \\\n",
       "0  697        705    Asus                        Chromebook Flip   \n",
       "1  435        442    Asus                              Rog Strix   \n",
       "2  735        743  Lenovo  V310-15IKB (i7-7500U/4GB/1TB/FHD/W10)   \n",
       "\n",
       "             TypeName  Inches                 ScreenResolution  \\\n",
       "0  2 in 1 Convertible    12.5  Full HD / Touchscreen 1920x1080   \n",
       "1              Gaming    17.3                Full HD 1920x1080   \n",
       "2            Notebook    15.6                Full HD 1920x1080   \n",
       "\n",
       "                           Cpu  Ram                Memory  ... Price_euros  \\\n",
       "0  Intel Core M M3-6Y30 0.9GHz  4GB    64GB Flash Storage  ...       669.0   \n",
       "1        AMD Ryzen 1600 3.2GHz  8GB  256GB SSD +  1TB HDD  ...      1695.0   \n",
       "2   Intel Core i7 7500U 2.7GHz  4GB               1TB HDD  ...       779.0   \n",
       "\n",
       "  Ram_Int Weight_int      hz  hz_int  Company_int ScreenResolution_int  \\\n",
       "0       4       1.20  0.9GHz     0.9            2                    7   \n",
       "1       8       3.20  3.2GHz     3.2            2                    8   \n",
       "2       4       1.85  2.7GHz     2.7           10                    8   \n",
       "\n",
       "   Cpu_int  TypeName_int  Memory_int  \n",
       "0       40             0          32  \n",
       "1       21             1          16  \n",
       "2       82             3           8  \n",
       "\n",
       "[3 rows x 23 columns]"
      ]
     },
     "execution_count": 77,
     "metadata": {},
     "output_type": "execute_result"
    }
   ],
   "source": [
    "from sklearn.preprocessing import LabelEncoder #HABRIA QUE HACER ALGO CON ESTA\n",
    "\n",
    "le = LabelEncoder()\n",
    "train['Memory_int'] = le.fit_transform(train['Memory'])\n",
    "train.head(3)"
   ]
  },
  {
   "cell_type": "code",
   "execution_count": 78,
   "metadata": {},
   "outputs": [
    {
     "data": {
      "text/html": [
       "<div>\n",
       "<style scoped>\n",
       "    .dataframe tbody tr th:only-of-type {\n",
       "        vertical-align: middle;\n",
       "    }\n",
       "\n",
       "    .dataframe tbody tr th {\n",
       "        vertical-align: top;\n",
       "    }\n",
       "\n",
       "    .dataframe thead th {\n",
       "        text-align: right;\n",
       "    }\n",
       "</style>\n",
       "<table border=\"1\" class=\"dataframe\">\n",
       "  <thead>\n",
       "    <tr style=\"text-align: right;\">\n",
       "      <th></th>\n",
       "      <th>id</th>\n",
       "      <th>laptop_ID</th>\n",
       "      <th>Company</th>\n",
       "      <th>Product</th>\n",
       "      <th>TypeName</th>\n",
       "      <th>Inches</th>\n",
       "      <th>ScreenResolution</th>\n",
       "      <th>Cpu</th>\n",
       "      <th>Ram</th>\n",
       "      <th>Memory</th>\n",
       "      <th>...</th>\n",
       "      <th>Ram_Int</th>\n",
       "      <th>Weight_int</th>\n",
       "      <th>hz</th>\n",
       "      <th>hz_int</th>\n",
       "      <th>Company_int</th>\n",
       "      <th>ScreenResolution_int</th>\n",
       "      <th>Cpu_int</th>\n",
       "      <th>TypeName_int</th>\n",
       "      <th>Memory_int</th>\n",
       "      <th>Gpu_int</th>\n",
       "    </tr>\n",
       "  </thead>\n",
       "  <tbody>\n",
       "    <tr>\n",
       "      <th>0</th>\n",
       "      <td>697</td>\n",
       "      <td>705</td>\n",
       "      <td>Asus</td>\n",
       "      <td>Chromebook Flip</td>\n",
       "      <td>2 in 1 Convertible</td>\n",
       "      <td>12.5</td>\n",
       "      <td>Full HD / Touchscreen 1920x1080</td>\n",
       "      <td>Intel Core M M3-6Y30 0.9GHz</td>\n",
       "      <td>4GB</td>\n",
       "      <td>64GB Flash Storage</td>\n",
       "      <td>...</td>\n",
       "      <td>4</td>\n",
       "      <td>1.20</td>\n",
       "      <td>0.9GHz</td>\n",
       "      <td>0.9</td>\n",
       "      <td>2</td>\n",
       "      <td>7</td>\n",
       "      <td>40</td>\n",
       "      <td>0</td>\n",
       "      <td>32</td>\n",
       "      <td>36</td>\n",
       "    </tr>\n",
       "    <tr>\n",
       "      <th>1</th>\n",
       "      <td>435</td>\n",
       "      <td>442</td>\n",
       "      <td>Asus</td>\n",
       "      <td>Rog Strix</td>\n",
       "      <td>Gaming</td>\n",
       "      <td>17.3</td>\n",
       "      <td>Full HD 1920x1080</td>\n",
       "      <td>AMD Ryzen 1600 3.2GHz</td>\n",
       "      <td>8GB</td>\n",
       "      <td>256GB SSD +  1TB HDD</td>\n",
       "      <td>...</td>\n",
       "      <td>8</td>\n",
       "      <td>3.20</td>\n",
       "      <td>3.2GHz</td>\n",
       "      <td>3.2</td>\n",
       "      <td>2</td>\n",
       "      <td>8</td>\n",
       "      <td>21</td>\n",
       "      <td>1</td>\n",
       "      <td>16</td>\n",
       "      <td>28</td>\n",
       "    </tr>\n",
       "    <tr>\n",
       "      <th>2</th>\n",
       "      <td>735</td>\n",
       "      <td>743</td>\n",
       "      <td>Lenovo</td>\n",
       "      <td>V310-15IKB (i7-7500U/4GB/1TB/FHD/W10)</td>\n",
       "      <td>Notebook</td>\n",
       "      <td>15.6</td>\n",
       "      <td>Full HD 1920x1080</td>\n",
       "      <td>Intel Core i7 7500U 2.7GHz</td>\n",
       "      <td>4GB</td>\n",
       "      <td>1TB HDD</td>\n",
       "      <td>...</td>\n",
       "      <td>4</td>\n",
       "      <td>1.85</td>\n",
       "      <td>2.7GHz</td>\n",
       "      <td>2.7</td>\n",
       "      <td>10</td>\n",
       "      <td>8</td>\n",
       "      <td>82</td>\n",
       "      <td>3</td>\n",
       "      <td>8</td>\n",
       "      <td>42</td>\n",
       "    </tr>\n",
       "  </tbody>\n",
       "</table>\n",
       "<p>3 rows × 24 columns</p>\n",
       "</div>"
      ],
      "text/plain": [
       "    id  laptop_ID Company                                Product  \\\n",
       "0  697        705    Asus                        Chromebook Flip   \n",
       "1  435        442    Asus                              Rog Strix   \n",
       "2  735        743  Lenovo  V310-15IKB (i7-7500U/4GB/1TB/FHD/W10)   \n",
       "\n",
       "             TypeName  Inches                 ScreenResolution  \\\n",
       "0  2 in 1 Convertible    12.5  Full HD / Touchscreen 1920x1080   \n",
       "1              Gaming    17.3                Full HD 1920x1080   \n",
       "2            Notebook    15.6                Full HD 1920x1080   \n",
       "\n",
       "                           Cpu  Ram                Memory  ... Ram_Int  \\\n",
       "0  Intel Core M M3-6Y30 0.9GHz  4GB    64GB Flash Storage  ...       4   \n",
       "1        AMD Ryzen 1600 3.2GHz  8GB  256GB SSD +  1TB HDD  ...       8   \n",
       "2   Intel Core i7 7500U 2.7GHz  4GB               1TB HDD  ...       4   \n",
       "\n",
       "  Weight_int      hz  hz_int  Company_int  ScreenResolution_int Cpu_int  \\\n",
       "0       1.20  0.9GHz     0.9            2                     7      40   \n",
       "1       3.20  3.2GHz     3.2            2                     8      21   \n",
       "2       1.85  2.7GHz     2.7           10                     8      82   \n",
       "\n",
       "   TypeName_int  Memory_int  Gpu_int  \n",
       "0             0          32       36  \n",
       "1             1          16       28  \n",
       "2             3           8       42  \n",
       "\n",
       "[3 rows x 24 columns]"
      ]
     },
     "execution_count": 78,
     "metadata": {},
     "output_type": "execute_result"
    }
   ],
   "source": [
    "from sklearn.preprocessing import LabelEncoder\n",
    "\n",
    "le = LabelEncoder()\n",
    "train['Gpu_int'] = le.fit_transform(train['Gpu'])\n",
    "train.head(3)"
   ]
  },
  {
   "cell_type": "code",
   "execution_count": 79,
   "metadata": {},
   "outputs": [
    {
     "data": {
      "text/plain": [
       "Intel Core i7 7700HQ 2.8GHz    0.292350\n",
       "Intel Core i7 7500U 2.7GHz     0.237705\n",
       "Intel Core i7 8550U 1.8GHz     0.125683\n",
       "Intel Core i7 6500U 2.5GHz     0.098361\n",
       "Intel Core i7 6700HQ 2.6GHz    0.073770\n",
       "Intel Core i7 6600U 2.6GHz     0.032787\n",
       "Intel Core i7 7600U 2.8GHz     0.030055\n",
       "Intel Core i7 6820HK 2.7GHz    0.021858\n",
       "Intel Core i7 7820HK 2.9GHz    0.013661\n",
       "Intel Core i7 6820HQ 2.7GHz    0.013661\n",
       "Intel Core i7 7Y75 1.3GHz      0.010929\n",
       "Intel Core i7 7820HQ 2.9GHz    0.010929\n",
       "Intel Core i7 7660U 2.5GHz     0.008197\n",
       "Intel Core i7 7560U 2.4GHz     0.005464\n",
       "Intel Core i7 8650U 1.9GHz     0.005464\n",
       "Intel Core i7 2.2GHz           0.002732\n",
       "Intel Core i7 6920HQ 2.9GHz    0.002732\n",
       "Intel Core i7 6500U 2.50GHz    0.002732\n",
       "Intel Core i7 2.8GHz           0.002732\n",
       "Intel Core i7 7500U 2.5GHz     0.002732\n",
       "Intel Core i7 2.9GHz           0.002732\n",
       "Intel Core i7 7700HQ 2.7GHz    0.002732\n",
       "Name: Cpu, dtype: float64"
      ]
     },
     "execution_count": 79,
     "metadata": {},
     "output_type": "execute_result"
    }
   ],
   "source": [
    "train['Cpu_i7'] = np.where(train['Cpu'].str.contains(\"i7\"), 1 , 0) #PARA CUANDO UNA COLUMNA CONTIENE CIERTA PALABRA\n",
    "train[train['Cpu_i7']==1]['Cpu'].value_counts(normalize=True) #para contar dichos valores 1 o 0"
   ]
  },
  {
   "cell_type": "code",
   "execution_count": 80,
   "metadata": {},
   "outputs": [
    {
     "data": {
      "text/plain": [
       "AMD A9-Series 9420 3GHz            0.217391\n",
       "AMD A12-Series 9720P 3.6GHz        0.108696\n",
       "AMD A8-Series 7410 2.2GHz          0.086957\n",
       "AMD A6-Series 9220 2.5GHz          0.065217\n",
       "AMD E-Series 7110 1.8GHz           0.043478\n",
       "AMD Ryzen 1700 3GHz                0.043478\n",
       "AMD A9-Series 9410 2.9GHz          0.043478\n",
       "AMD A6-Series A6-9220 2.5GHz       0.043478\n",
       "AMD A9-Series A9-9420 3GHz         0.043478\n",
       "AMD A10-Series 9600P 2.4GHz        0.021739\n",
       "AMD A6-Series 9220 2.9GHz          0.021739\n",
       "AMD A10-Series A10-9620P 2.5GHz    0.021739\n",
       "AMD E-Series E2-9000 2.2GHz        0.021739\n",
       "AMD A9-Series 9420 2.9GHz          0.021739\n",
       "AMD E-Series 6110 1.5GHz           0.021739\n",
       "AMD Ryzen 1600 3.2GHz              0.021739\n",
       "AMD E-Series 9000 2.2GHz           0.021739\n",
       "AMD A4-Series 7210 2.2GHz          0.021739\n",
       "AMD E-Series E2-6110 1.5GHz        0.021739\n",
       "AMD A10-Series 9620P 2.5GHz        0.021739\n",
       "AMD E-Series 9000e 1.5GHz          0.021739\n",
       "AMD A12-Series 9720P 2.7GHz        0.021739\n",
       "AMD A6-Series 7310 2GHz            0.021739\n",
       "Name: Cpu, dtype: float64"
      ]
     },
     "execution_count": 80,
     "metadata": {},
     "output_type": "execute_result"
    }
   ],
   "source": [
    "train['Cpu_intel'] = np.where(train['Cpu'].str.contains(\"AMD\"), 1 , 0) #PARA CUANDO UNA COLUMNA CONTIENE CIERTA PALABRA\n",
    "train[train['Cpu_intel']==1]['Cpu'].value_counts(normalize=True) #para contar dichos valores 1 o 0"
   ]
  },
  {
   "cell_type": "code",
   "execution_count": 81,
   "metadata": {},
   "outputs": [
    {
     "data": {
      "text/plain": [
       "Nvidia GeForce GTX 1050 Ti    0.884615\n",
       "Nvidia GeForce GTX 1050Ti     0.076923\n",
       "Nvidia GeForce GTX1050 Ti     0.038462\n",
       "Name: Gpu, dtype: float64"
      ]
     },
     "execution_count": 81,
     "metadata": {},
     "output_type": "execute_result"
    }
   ],
   "source": [
    "train['Gpu_Ti'] = np.where(train['Gpu'].str.contains(\"Ti\"), 1 , 0) #PARA CUANDO UNA COLUMNA CONTIENE CIERTA PALABRA\n",
    "train[train['Gpu_Ti']==1]['Gpu'].value_counts(normalize=True) #para contar dichos valores 1 o 0"
   ]
  },
  {
   "cell_type": "code",
   "execution_count": 82,
   "metadata": {},
   "outputs": [
    {
     "data": {
      "text/plain": [
       "Nvidia GeForce GTX 1050           0.155642\n",
       "Nvidia GeForce GTX 1060           0.151751\n",
       "Nvidia GeForce 940MX              0.120623\n",
       "Nvidia GeForce GTX 1070           0.093385\n",
       "Nvidia GeForce GTX 1050 Ti        0.089494\n",
       "Nvidia GeForce 930MX              0.050584\n",
       "Nvidia GeForce 920MX              0.038911\n",
       "Nvidia GeForce MX150              0.035019\n",
       "Nvidia GeForce GTX 950M           0.027237\n",
       "Nvidia GeForce GTX 980M           0.023346\n",
       "Nvidia GeForce GTX 960M           0.023346\n",
       "Nvidia GeForce 920MX              0.015564\n",
       "Nvidia GeForce 920M               0.015564\n",
       "Nvidia GeForce GT 940MX           0.015564\n",
       "Nvidia GeForce MX130              0.015564\n",
       "Nvidia GeForce GTX 940MX          0.015564\n",
       "Nvidia GeForce 930M               0.015564\n",
       "Nvidia GeForce GTX 970M           0.011673\n",
       "Nvidia GeForce GTX 1080           0.011673\n",
       "Nvidia GeForce 930MX              0.011673\n",
       "Nvidia GeForce 150MX              0.011673\n",
       "Nvidia GeForce GTX 965M           0.007782\n",
       "Nvidia GeForce GTX 1050Ti         0.007782\n",
       "Nvidia GeForce GTX 1050M          0.007782\n",
       "Nvidia GeForce 960M               0.003891\n",
       "Nvidia GeForce GTX1060            0.003891\n",
       "Nvidia GeForce GTX 960<U+039C>    0.003891\n",
       "Nvidia GeForce GTX1050 Ti         0.003891\n",
       "Nvidia GeForce GTX1080            0.003891\n",
       "Nvidia GeForce GTX 980            0.003891\n",
       "Nvidia GeForce GTX 960            0.003891\n",
       "Name: Gpu, dtype: float64"
      ]
     },
     "execution_count": 82,
     "metadata": {},
     "output_type": "execute_result"
    }
   ],
   "source": [
    "train['Gpu_gforce'] = np.where(train['Gpu'].str.contains(\"GeForce\"), 1 , 0) #PARA CUANDO UNA COLUMNA CONTIENE CIERTA PALABRA\n",
    "train[train['Gpu_gforce']==1]['Gpu'].value_counts(normalize=True) #para contar dichos valores 1 o 0"
   ]
  },
  {
   "cell_type": "code",
   "execution_count": 83,
   "metadata": {},
   "outputs": [
    {
     "data": {
      "text/plain": [
       "Nvidia GeForce GTX 1050       0.300752\n",
       "Nvidia GeForce GTX 1060       0.293233\n",
       "Nvidia GeForce GTX 1070       0.180451\n",
       "Nvidia GeForce GTX 1050 Ti    0.172932\n",
       "Nvidia GeForce GTX 1080       0.022556\n",
       "Nvidia GeForce GTX 1050Ti     0.015038\n",
       "Nvidia GeForce GTX 1050M      0.015038\n",
       "Name: Gpu, dtype: float64"
      ]
     },
     "execution_count": 83,
     "metadata": {},
     "output_type": "execute_result"
    }
   ],
   "source": [
    "train['Gpu_10'] = np.where(train['Gpu'].str.contains(\"GTX 10\"), 1 , 0) #PARA CUANDO UNA COLUMNA CONTIENE CIERTA PALABRA\n",
    "train[train['Gpu_10']==1]['Gpu'].value_counts(normalize=True) #para contar dichos valores 1 o 0"
   ]
  },
  {
   "cell_type": "code",
   "execution_count": 84,
   "metadata": {},
   "outputs": [
    {
     "data": {
      "text/plain": [
       "Gaming    1.0\n",
       "Name: TypeName, dtype: float64"
      ]
     },
     "execution_count": 84,
     "metadata": {},
     "output_type": "execute_result"
    }
   ],
   "source": [
    "train['TypeName_Gaming'] = np.where(train['TypeName'].str.contains(\"Gaming\"), 1 , 0) #PARA CUANDO UNA COLUMNA CONTIENE CIERTA PALABRA\n",
    "train[train['TypeName_Gaming']==1]['TypeName'].value_counts(normalize=True) #para contar dichos valores 1 o 0"
   ]
  },
  {
   "cell_type": "code",
   "execution_count": 85,
   "metadata": {},
   "outputs": [
    {
     "data": {
      "text/plain": [
       "Nvidia GeForce GTX 1050           0.155642\n",
       "Nvidia GeForce GTX 1060           0.151751\n",
       "Nvidia GeForce 940MX              0.120623\n",
       "Nvidia GeForce GTX 1070           0.093385\n",
       "Nvidia GeForce GTX 1050 Ti        0.089494\n",
       "Nvidia GeForce 930MX              0.050584\n",
       "Nvidia GeForce 920MX              0.038911\n",
       "Nvidia GeForce MX150              0.035019\n",
       "Nvidia GeForce GTX 950M           0.027237\n",
       "Nvidia GeForce GTX 980M           0.023346\n",
       "Nvidia GeForce GTX 960M           0.023346\n",
       "Nvidia GeForce 920MX              0.015564\n",
       "Nvidia GeForce 920M               0.015564\n",
       "Nvidia GeForce GT 940MX           0.015564\n",
       "Nvidia GeForce MX130              0.015564\n",
       "Nvidia GeForce GTX 940MX          0.015564\n",
       "Nvidia GeForce 930M               0.015564\n",
       "Nvidia GeForce GTX 970M           0.011673\n",
       "Nvidia GeForce GTX 1080           0.011673\n",
       "Nvidia GeForce 930MX              0.011673\n",
       "Nvidia GeForce 150MX              0.011673\n",
       "Nvidia GeForce GTX 965M           0.007782\n",
       "Nvidia GeForce GTX 1050Ti         0.007782\n",
       "Nvidia GeForce GTX 1050M          0.007782\n",
       "Nvidia GeForce 960M               0.003891\n",
       "Nvidia GeForce GTX1060            0.003891\n",
       "Nvidia GeForce GTX 960<U+039C>    0.003891\n",
       "Nvidia GeForce GTX1050 Ti         0.003891\n",
       "Nvidia GeForce GTX1080            0.003891\n",
       "Nvidia GeForce GTX 980            0.003891\n",
       "Nvidia GeForce GTX 960            0.003891\n",
       "Name: Gpu, dtype: float64"
      ]
     },
     "execution_count": 85,
     "metadata": {},
     "output_type": "execute_result"
    }
   ],
   "source": [
    "train['Gpu_gforce'] = np.where(train['Gpu'].str.contains(\"GeForce\"), 1 , 0) #PARA CUANDO UNA COLUMNA CONTIENE CIERTA PALABRA\n",
    "train[train['Gpu_gforce']==1]['Gpu'].value_counts(normalize=True) #para contar dichos valores 1 o 0"
   ]
  },
  {
   "cell_type": "code",
   "execution_count": 86,
   "metadata": {},
   "outputs": [
    {
     "data": {
      "text/plain": [
       "' train[\\'1920x1080\\'] = np.where(train[\\'ScreenResolution\\'].str.contains(\"1920x1080\"), 1 , 0) #PARA CUANDO UNA COLUMNA CONTIENE CIERTA PALABRA\\ntrain[train[\\'1920x1080\\']==1][\\'ScreenResolution\\'].value_counts(normalize=True) #para contar dichos valores 1 o 0 '"
      ]
     },
     "execution_count": 86,
     "metadata": {},
     "output_type": "execute_result"
    }
   ],
   "source": [
    "\"\"\" train['1920x1080'] = np.where(train['ScreenResolution'].str.contains(\"1920x1080\"), 1 , 0) #PARA CUANDO UNA COLUMNA CONTIENE CIERTA PALABRA\n",
    "train[train['1920x1080']==1]['ScreenResolution'].value_counts(normalize=True) #para contar dichos valores 1 o 0 \"\"\""
   ]
  },
  {
   "cell_type": "code",
   "execution_count": 87,
   "metadata": {},
   "outputs": [
    {
     "name": "stderr",
     "output_type": "stream",
     "text": [
      "C:\\Users\\Braulio\\AppData\\Local\\Temp\\ipykernel_12180\\2412348276.py:2: FutureWarning: The default value of numeric_only in DataFrame.corr is deprecated. In a future version, it will default to False. Select only valid columns or specify the value of numeric_only to silence this warning.\n",
      "  sns.heatmap(train.corr().abs(), annot=True);\n"
     ]
    },
    {
     "data": {
      "image/png": "[encoded data removed]",
      "text/plain": [
       "<Figure size 1200x1200 with 2 Axes>"
      ]
     },
     "metadata": {},
     "output_type": "display_data"
    }
   ],
   "source": [
    "plt.figure(figsize= (12,12))\n",
    "sns.heatmap(train.corr().abs(), annot=True);\n",
    "#si fuera un dataset con muchas variables de numeros saldría muy grande... y luego habría que escoger las mejores"
   ]
  },
  {
   "cell_type": "code",
   "execution_count": 88,
   "metadata": {},
   "outputs": [
    {
     "name": "stderr",
     "output_type": "stream",
     "text": [
      "C:\\Users\\Braulio\\AppData\\Local\\Temp\\ipykernel_12180\\522657049.py:1: FutureWarning: The default value of numeric_only in DataFrame.corr is deprecated. In a future version, it will default to False. Select only valid columns or specify the value of numeric_only to silence this warning.\n",
      "  corr = train.corr().abs() #para sacarlo con valores absolutos\n"
     ]
    }
   ],
   "source": [
    "corr = train.corr().abs() #para sacarlo con valores absolutos"
   ]
  },
  {
   "cell_type": "code",
   "execution_count": 89,
   "metadata": {},
   "outputs": [
    {
     "data": {
      "text/html": [
       "<div>\n",
       "<style scoped>\n",
       "    .dataframe tbody tr th:only-of-type {\n",
       "        vertical-align: middle;\n",
       "    }\n",
       "\n",
       "    .dataframe tbody tr th {\n",
       "        vertical-align: top;\n",
       "    }\n",
       "\n",
       "    .dataframe thead th {\n",
       "        text-align: right;\n",
       "    }\n",
       "</style>\n",
       "<table border=\"1\" class=\"dataframe\">\n",
       "  <thead>\n",
       "    <tr style=\"text-align: right;\">\n",
       "      <th></th>\n",
       "      <th>Price_euros</th>\n",
       "    </tr>\n",
       "  </thead>\n",
       "  <tbody>\n",
       "    <tr>\n",
       "      <th>Price_euros</th>\n",
       "      <td>1.000000</td>\n",
       "    </tr>\n",
       "    <tr>\n",
       "      <th>Ram_Int</th>\n",
       "      <td>0.726410</td>\n",
       "    </tr>\n",
       "    <tr>\n",
       "      <th>Cpu_i7</th>\n",
       "      <td>0.559160</td>\n",
       "    </tr>\n",
       "    <tr>\n",
       "      <th>Cpu_int</th>\n",
       "      <td>0.548023</td>\n",
       "    </tr>\n",
       "    <tr>\n",
       "      <th>Gpu_int</th>\n",
       "      <td>0.476849</td>\n",
       "    </tr>\n",
       "    <tr>\n",
       "      <th>hz_int</th>\n",
       "      <td>0.410933</td>\n",
       "    </tr>\n",
       "    <tr>\n",
       "      <th>TypeName_Gaming</th>\n",
       "      <td>0.382113</td>\n",
       "    </tr>\n",
       "    <tr>\n",
       "      <th>ScreenResolution_int</th>\n",
       "      <td>0.359618</td>\n",
       "    </tr>\n",
       "    <tr>\n",
       "      <th>Gpu_10</th>\n",
       "      <td>0.349883</td>\n",
       "    </tr>\n",
       "    <tr>\n",
       "      <th>Gpu_gforce</th>\n",
       "      <td>0.254480</td>\n",
       "    </tr>\n",
       "    <tr>\n",
       "      <th>Weight_int</th>\n",
       "      <td>0.210329</td>\n",
       "    </tr>\n",
       "    <tr>\n",
       "      <th>Cpu_intel</th>\n",
       "      <td>0.191199</td>\n",
       "    </tr>\n",
       "    <tr>\n",
       "      <th>Memory_int</th>\n",
       "      <td>0.188445</td>\n",
       "    </tr>\n",
       "    <tr>\n",
       "      <th>Company_int</th>\n",
       "      <td>0.132781</td>\n",
       "    </tr>\n",
       "    <tr>\n",
       "      <th>TypeName_int</th>\n",
       "      <td>0.121573</td>\n",
       "    </tr>\n",
       "    <tr>\n",
       "      <th>Inches</th>\n",
       "      <td>0.070152</td>\n",
       "    </tr>\n",
       "    <tr>\n",
       "      <th>id</th>\n",
       "      <td>0.063382</td>\n",
       "    </tr>\n",
       "    <tr>\n",
       "      <th>laptop_ID</th>\n",
       "      <td>0.063274</td>\n",
       "    </tr>\n",
       "    <tr>\n",
       "      <th>Gpu_Ti</th>\n",
       "      <td>0.052524</td>\n",
       "    </tr>\n",
       "  </tbody>\n",
       "</table>\n",
       "</div>"
      ],
      "text/plain": [
       "                      Price_euros\n",
       "Price_euros              1.000000\n",
       "Ram_Int                  0.726410\n",
       "Cpu_i7                   0.559160\n",
       "Cpu_int                  0.548023\n",
       "Gpu_int                  0.476849\n",
       "hz_int                   0.410933\n",
       "TypeName_Gaming          0.382113\n",
       "ScreenResolution_int     0.359618\n",
       "Gpu_10                   0.349883\n",
       "Gpu_gforce               0.254480\n",
       "Weight_int               0.210329\n",
       "Cpu_intel                0.191199\n",
       "Memory_int               0.188445\n",
       "Company_int              0.132781\n",
       "TypeName_int             0.121573\n",
       "Inches                   0.070152\n",
       "id                       0.063382\n",
       "laptop_ID                0.063274\n",
       "Gpu_Ti                   0.052524"
      ]
     },
     "execution_count": 89,
     "metadata": {},
     "output_type": "execute_result"
    }
   ],
   "source": [
    "corr_SP = corr.loc[:,['Price_euros']] #para sacar las correlaciones de solo esta, que es la principal\n",
    "corr_SP.sort_values(ascending=False, by = 'Price_euros')"
   ]
  },
  {
   "cell_type": "code",
   "execution_count": 90,
   "metadata": {},
   "outputs": [],
   "source": [
    "#sns.boxplot(x='Ram_Int', y='Price_euros', data=train) #la variable que más correla con Price_euros"
   ]
  },
  {
   "cell_type": "code",
   "execution_count": 91,
   "metadata": {},
   "outputs": [],
   "source": [
    "#las variables con aprox más de 0,5 de correlación junto Price_euros\n",
    "train_selec = train.loc[:,['Ram_Int', 'ScreenResolution_int', 'Cpu_int', 'Gpu_gforce', 'Gpu_10', 'TypeName_Gaming', 'Cpu_intel', 'Cpu_i7', 'hz_int']]"
   ]
  },
  {
   "cell_type": "code",
   "execution_count": 92,
   "metadata": {},
   "outputs": [
    {
     "data": {
      "text/plain": [
       "<Axes: >"
      ]
     },
     "execution_count": 92,
     "metadata": {},
     "output_type": "execute_result"
    },
    {
     "data": {
      "image/png": "[encoded data removed]",
      "text/plain": [
       "<Figure size 600x600 with 2 Axes>"
      ]
     },
     "metadata": {},
     "output_type": "display_data"
    }
   ],
   "source": [
    "plt.figure(figsize= (6,6))\n",
    "sns.heatmap(train_selec.corr().abs(), annot=True)"
   ]
  },
  {
   "cell_type": "code",
   "execution_count": 93,
   "metadata": {},
   "outputs": [],
   "source": [
    "from sklearn.model_selection import train_test_split"
   ]
  },
  {
   "cell_type": "code",
   "execution_count": 94,
   "metadata": {},
   "outputs": [],
   "source": [
    "X = train.loc[:,['Ram_Int', 'ScreenResolution_int', 'Cpu_int', 'Gpu_gforce', 'Gpu_10', 'TypeName_Gaming', 'Cpu_intel', 'Cpu_i7', 'hz_int']]\n",
    "y=train.loc[:,['Price_euros']]"
   ]
  },
  {
   "cell_type": "code",
   "execution_count": 95,
   "metadata": {},
   "outputs": [],
   "source": [
    "#?train_test_split #para copiar lo de abajo"
   ]
  },
  {
   "cell_type": "code",
   "execution_count": 96,
   "metadata": {},
   "outputs": [],
   "source": [
    "X_train, X_test, y_train, y_test = train_test_split(X,y,test_size=0.2, random_state=12)"
   ]
  },
  {
   "cell_type": "code",
   "execution_count": 97,
   "metadata": {},
   "outputs": [],
   "source": [
    "from sklearn.linear_model import LinearRegression"
   ]
  },
  {
   "cell_type": "code",
   "execution_count": 98,
   "metadata": {},
   "outputs": [],
   "source": [
    "lm = LinearRegression()"
   ]
  },
  {
   "cell_type": "code",
   "execution_count": 99,
   "metadata": {},
   "outputs": [
    {
     "data": {
      "text/html": [
       "<style>#sk-container-id-2 {color: black;background-color: white;}#sk-container-id-2 pre{padding: 0;}#sk-container-id-2 div.sk-toggleable {background-color: white;}#sk-container-id-2 label.sk-toggleable__label {cursor: pointer;display: block;width: 100%;margin-bottom: 0;padding: 0.3em;box-sizing: border-box;text-align: center;}#sk-container-id-2 label.sk-toggleable__label-arrow:before {content: \"▸\";float: left;margin-right: 0.25em;color: #696969;}#sk-container-id-2 label.sk-toggleable__label-arrow:hover:before {color: black;}#sk-container-id-2 div.sk-estimator:hover label.sk-toggleable__label-arrow:before {color: black;}#sk-container-id-2 div.sk-toggleable__content {max-height: 0;max-width: 0;overflow: hidden;text-align: left;background-color: #f0f8ff;}#sk-container-id-2 div.sk-toggleable__content pre {margin: 0.2em;color: black;border-radius: 0.25em;background-color: #f0f8ff;}#sk-container-id-2 input.sk-toggleable__control:checked~div.sk-toggleable__content {max-height: 200px;max-width: 100%;overflow: auto;}#sk-container-id-2 input.sk-toggleable__control:checked~label.sk-toggleable__label-arrow:before {content: \"▾\";}#sk-container-id-2 div.sk-estimator input.sk-toggleable__control:checked~label.sk-toggleable__label {background-color: #d4ebff;}#sk-container-id-2 div.sk-label input.sk-toggleable__control:checked~label.sk-toggleable__label {background-color: #d4ebff;}#sk-container-id-2 input.sk-hidden--visually {border: 0;clip: rect(1px 1px 1px 1px);clip: rect(1px, 1px, 1px, 1px);height: 1px;margin: -1px;overflow: hidden;padding: 0;position: absolute;width: 1px;}#sk-container-id-2 div.sk-estimator {font-family: monospace;background-color: #f0f8ff;border: 1px dotted black;border-radius: 0.25em;box-sizing: border-box;margin-bottom: 0.5em;}#sk-container-id-2 div.sk-estimator:hover {background-color: #d4ebff;}#sk-container-id-2 div.sk-parallel-item::after {content: \"\";width: 100%;border-bottom: 1px solid gray;flex-grow: 1;}#sk-container-id-2 div.sk-label:hover label.sk-toggleable__label {background-color: #d4ebff;}#sk-container-id-2 div.sk-serial::before {content: \"\";position: absolute;border-left: 1px solid gray;box-sizing: border-box;top: 0;bottom: 0;left: 50%;z-index: 0;}#sk-container-id-2 div.sk-serial {display: flex;flex-direction: column;align-items: center;background-color: white;padding-right: 0.2em;padding-left: 0.2em;position: relative;}#sk-container-id-2 div.sk-item {position: relative;z-index: 1;}#sk-container-id-2 div.sk-parallel {display: flex;align-items: stretch;justify-content: center;background-color: white;position: relative;}#sk-container-id-2 div.sk-item::before, #sk-container-id-2 div.sk-parallel-item::before {content: \"\";position: absolute;border-left: 1px solid gray;box-sizing: border-box;top: 0;bottom: 0;left: 50%;z-index: -1;}#sk-container-id-2 div.sk-parallel-item {display: flex;flex-direction: column;z-index: 1;position: relative;background-color: white;}#sk-container-id-2 div.sk-parallel-item:first-child::after {align-self: flex-end;width: 50%;}#sk-container-id-2 div.sk-parallel-item:last-child::after {align-self: flex-start;width: 50%;}#sk-container-id-2 div.sk-parallel-item:only-child::after {width: 0;}#sk-container-id-2 div.sk-dashed-wrapped {border: 1px dashed gray;margin: 0 0.4em 0.5em 0.4em;box-sizing: border-box;padding-bottom: 0.4em;background-color: white;}#sk-container-id-2 div.sk-label label {font-family: monospace;font-weight: bold;display: inline-block;line-height: 1.2em;}#sk-container-id-2 div.sk-label-container {text-align: center;}#sk-container-id-2 div.sk-container {/* jupyter's `normalize.less` sets `[hidden] { display: none; }` but bootstrap.min.css set `[hidden] { display: none !important; }` so we also need the `!important` here to be able to override the default hidden behavior on the sphinx rendered scikit-learn.org. See: https://github.com/scikit-learn/scikit-learn/issues/21755 */display: inline-block !important;position: relative;}#sk-container-id-2 div.sk-text-repr-fallback {display: none;}</style><div id=\"sk-container-id-2\" class=\"sk-top-container\"><div class=\"sk-text-repr-fallback\"><pre>LinearRegression()</pre><b>In a Jupyter environment, please rerun this cell to show the HTML representation or trust the notebook. <br />On GitHub, the HTML representation is unable to render, please try loading this page with nbviewer.org.</b></div><div class=\"sk-container\" hidden><div class=\"sk-item\"><div class=\"sk-estimator sk-toggleable\"><input class=\"sk-toggleable__control sk-hidden--visually\" id=\"sk-estimator-id-2\" type=\"checkbox\" checked><label for=\"sk-estimator-id-2\" class=\"sk-toggleable__label sk-toggleable__label-arrow\">LinearRegression</label><div class=\"sk-toggleable__content\"><pre>LinearRegression()</pre></div></div></div></div></div>"
      ],
      "text/plain": [
       "LinearRegression()"
      ]
     },
     "execution_count": 99,
     "metadata": {},
     "output_type": "execute_result"
    }
   ],
   "source": [
    "lm.fit(X_train, y_train)"
   ]
  },
  {
   "cell_type": "code",
   "execution_count": 100,
   "metadata": {},
   "outputs": [
    {
     "name": "stdout",
     "output_type": "stream",
     "text": [
      "[-502.66649027]\n"
     ]
    }
   ],
   "source": [
    "print(lm.intercept_)"
   ]
  },
  {
   "cell_type": "code",
   "execution_count": 101,
   "metadata": {},
   "outputs": [
    {
     "data": {
      "text/plain": [
       "array([[  75.74010558,   13.59301272,    5.34848557, -236.46075788,\n",
       "         122.23024195,   43.53704527, -122.0566852 ,   91.44211591,\n",
       "         234.65084117]])"
      ]
     },
     "execution_count": 101,
     "metadata": {},
     "output_type": "execute_result"
    }
   ],
   "source": [
    "lm.coef_"
   ]
  },
  {
   "cell_type": "code",
   "execution_count": 102,
   "metadata": {},
   "outputs": [],
   "source": [
    "predicciones = lm.predict(X_test)"
   ]
  },
  {
   "cell_type": "code",
   "execution_count": 103,
   "metadata": {},
   "outputs": [],
   "source": [
    "#para unirlo al dataframe final\n",
    "DTpredicciones = pd.DataFrame(predicciones)\n",
    "DTpredicciones.reset_index(drop=True, inplace=True) #para que nos quiten los indices\n",
    "y_test.reset_index(drop=True, inplace=True) #aqui tambien\n",
    "df_unido = y_test.join(DTpredicciones) #unir"
   ]
  },
  {
   "cell_type": "code",
   "execution_count": 104,
   "metadata": {},
   "outputs": [
    {
     "name": "stdout",
     "output_type": "stream",
     "text": [
      "<class 'pandas.core.frame.DataFrame'>\n",
      "RangeIndex: 183 entries, 0 to 182\n",
      "Data columns (total 2 columns):\n",
      " #   Column       Non-Null Count  Dtype  \n",
      "---  ------       --------------  -----  \n",
      " 0   Price_euros  183 non-null    float64\n",
      " 1   0            183 non-null    float64\n",
      "dtypes: float64(2)\n",
      "memory usage: 3.0 KB\n"
     ]
    }
   ],
   "source": [
    "df_unido.info()"
   ]
  },
  {
   "cell_type": "code",
   "execution_count": 105,
   "metadata": {},
   "outputs": [],
   "source": [
    "#Métricas\n",
    "from sklearn import metrics"
   ]
  },
  {
   "cell_type": "code",
   "execution_count": 106,
   "metadata": {},
   "outputs": [
    {
     "name": "stdout",
     "output_type": "stream",
     "text": [
      "MAE 294.6216122173835\n",
      "MSE 164908.7408035376\n",
      "RMSE 406.08957238956236\n"
     ]
    }
   ],
   "source": [
    "print(\"MAE\", metrics.mean_absolute_error(y_test, predicciones))\n",
    "print(\"MSE\", metrics.mean_squared_error(y_test, predicciones))\n",
    "print(\"RMSE\", np.sqrt(metrics.mean_squared_error(y_test, predicciones)))\n",
    "# print(\"MAPE\", mean_absolute_percentage_error(diabetes_target_test, predictions)) #probar"
   ]
  },
  {
   "cell_type": "code",
   "execution_count": 107,
   "metadata": {},
   "outputs": [],
   "source": [
    "#sns.distplot(train.loc[:,['Price_euros']]);"
   ]
  },
  {
   "cell_type": "code",
   "execution_count": 108,
   "metadata": {},
   "outputs": [
    {
     "name": "stdout",
     "output_type": "stream",
     "text": [
      "Log RMSE 0.3348306714972012\n"
     ]
    }
   ],
   "source": [
    "from sklearn.metrics import mean_squared_log_error\n",
    "\n",
    "#métrica que usa Kaggle para compararte con competidores\n",
    "\n",
    "print(\"Log RMSE\", np.sqrt(metrics.mean_squared_log_error(y_test, predicciones)))"
   ]
  },
  {
   "cell_type": "code",
   "execution_count": 109,
   "metadata": {},
   "outputs": [],
   "source": [
    "test = pd.read_csv('test.csv')"
   ]
  },
  {
   "cell_type": "code",
   "execution_count": 110,
   "metadata": {},
   "outputs": [
    {
     "data": {
      "text/html": [
       "<div>\n",
       "<style scoped>\n",
       "    .dataframe tbody tr th:only-of-type {\n",
       "        vertical-align: middle;\n",
       "    }\n",
       "\n",
       "    .dataframe tbody tr th {\n",
       "        vertical-align: top;\n",
       "    }\n",
       "\n",
       "    .dataframe thead th {\n",
       "        text-align: right;\n",
       "    }\n",
       "</style>\n",
       "<table border=\"1\" class=\"dataframe\">\n",
       "  <thead>\n",
       "    <tr style=\"text-align: right;\">\n",
       "      <th></th>\n",
       "      <th>id</th>\n",
       "      <th>laptop_ID</th>\n",
       "      <th>Company</th>\n",
       "      <th>Product</th>\n",
       "      <th>TypeName</th>\n",
       "      <th>Inches</th>\n",
       "      <th>ScreenResolution</th>\n",
       "      <th>Cpu</th>\n",
       "      <th>Ram</th>\n",
       "      <th>Memory</th>\n",
       "      <th>Gpu</th>\n",
       "      <th>OpSys</th>\n",
       "      <th>Weight</th>\n",
       "      <th>Ram_Int</th>\n",
       "    </tr>\n",
       "  </thead>\n",
       "  <tbody>\n",
       "    <tr>\n",
       "      <th>0</th>\n",
       "      <td>824</td>\n",
       "      <td>833</td>\n",
       "      <td>Lenovo</td>\n",
       "      <td>ThinkPad X1</td>\n",
       "      <td>Ultrabook</td>\n",
       "      <td>14.0</td>\n",
       "      <td>IPS Panel Full HD 1920x1080</td>\n",
       "      <td>Intel Core i5 7200U 2.5GHz</td>\n",
       "      <td>8GB</td>\n",
       "      <td>256GB Flash Storage</td>\n",
       "      <td>Intel HD Graphics 620</td>\n",
       "      <td>Windows 10</td>\n",
       "      <td>1.13kg</td>\n",
       "      <td>8</td>\n",
       "    </tr>\n",
       "    <tr>\n",
       "      <th>1</th>\n",
       "      <td>101</td>\n",
       "      <td>104</td>\n",
       "      <td>HP</td>\n",
       "      <td>15-bw000nv (E2-9000e/4GB/500GB/Radeon</td>\n",
       "      <td>Notebook</td>\n",
       "      <td>15.6</td>\n",
       "      <td>Full HD 1920x1080</td>\n",
       "      <td>AMD E-Series E2-9000e 1.5GHz</td>\n",
       "      <td>4GB</td>\n",
       "      <td>500GB HDD</td>\n",
       "      <td>AMD Radeon R2</td>\n",
       "      <td>Windows 10</td>\n",
       "      <td>2.1kg</td>\n",
       "      <td>4</td>\n",
       "    </tr>\n",
       "  </tbody>\n",
       "</table>\n",
       "</div>"
      ],
      "text/plain": [
       "    id  laptop_ID Company                                Product   TypeName  \\\n",
       "0  824        833  Lenovo                            ThinkPad X1  Ultrabook   \n",
       "1  101        104      HP  15-bw000nv (E2-9000e/4GB/500GB/Radeon   Notebook   \n",
       "\n",
       "   Inches             ScreenResolution                           Cpu  Ram  \\\n",
       "0    14.0  IPS Panel Full HD 1920x1080    Intel Core i5 7200U 2.5GHz  8GB   \n",
       "1    15.6            Full HD 1920x1080  AMD E-Series E2-9000e 1.5GHz  4GB   \n",
       "\n",
       "                Memory                    Gpu       OpSys  Weight  Ram_Int  \n",
       "0  256GB Flash Storage  Intel HD Graphics 620  Windows 10  1.13kg        8  \n",
       "1            500GB HDD          AMD Radeon R2  Windows 10   2.1kg        4  "
      ]
     },
     "execution_count": 110,
     "metadata": {},
     "output_type": "execute_result"
    }
   ],
   "source": [
    "test['Ram_Int'] = test['Ram'].str[0:-2].astype('int')\n",
    "test.head(2)"
   ]
  },
  {
   "cell_type": "code",
   "execution_count": 111,
   "metadata": {},
   "outputs": [
    {
     "data": {
      "text/plain": [
       "\" #para quitarle a la columna de peso lo de kg\\ntest['Weight_int'] = test['Weight'].str[0:-2].astype('float') #sin el cambiar a int porq ya es\\ntest.head(3) \""
      ]
     },
     "execution_count": 111,
     "metadata": {},
     "output_type": "execute_result"
    }
   ],
   "source": [
    "\"\"\" #para quitarle a la columna de peso lo de kg\n",
    "test['Weight_int'] = test['Weight'].str[0:-2].astype('float') #sin el cambiar a int porq ya es\n",
    "test.head(3) \"\"\""
   ]
  },
  {
   "cell_type": "code",
   "execution_count": 112,
   "metadata": {},
   "outputs": [
    {
     "data": {
      "text/html": [
       "<div>\n",
       "<style scoped>\n",
       "    .dataframe tbody tr th:only-of-type {\n",
       "        vertical-align: middle;\n",
       "    }\n",
       "\n",
       "    .dataframe tbody tr th {\n",
       "        vertical-align: top;\n",
       "    }\n",
       "\n",
       "    .dataframe thead th {\n",
       "        text-align: right;\n",
       "    }\n",
       "</style>\n",
       "<table border=\"1\" class=\"dataframe\">\n",
       "  <thead>\n",
       "    <tr style=\"text-align: right;\">\n",
       "      <th></th>\n",
       "      <th>id</th>\n",
       "      <th>laptop_ID</th>\n",
       "      <th>Company</th>\n",
       "      <th>Product</th>\n",
       "      <th>TypeName</th>\n",
       "      <th>Inches</th>\n",
       "      <th>ScreenResolution</th>\n",
       "      <th>Cpu</th>\n",
       "      <th>Ram</th>\n",
       "      <th>Memory</th>\n",
       "      <th>Gpu</th>\n",
       "      <th>OpSys</th>\n",
       "      <th>Weight</th>\n",
       "      <th>Ram_Int</th>\n",
       "      <th>ScreenResolution_int</th>\n",
       "    </tr>\n",
       "  </thead>\n",
       "  <tbody>\n",
       "    <tr>\n",
       "      <th>0</th>\n",
       "      <td>824</td>\n",
       "      <td>833</td>\n",
       "      <td>Lenovo</td>\n",
       "      <td>ThinkPad X1</td>\n",
       "      <td>Ultrabook</td>\n",
       "      <td>14.0</td>\n",
       "      <td>IPS Panel Full HD 1920x1080</td>\n",
       "      <td>Intel Core i5 7200U 2.5GHz</td>\n",
       "      <td>8GB</td>\n",
       "      <td>256GB Flash Storage</td>\n",
       "      <td>Intel HD Graphics 620</td>\n",
       "      <td>Windows 10</td>\n",
       "      <td>1.13kg</td>\n",
       "      <td>8</td>\n",
       "      <td>14</td>\n",
       "    </tr>\n",
       "    <tr>\n",
       "      <th>1</th>\n",
       "      <td>101</td>\n",
       "      <td>104</td>\n",
       "      <td>HP</td>\n",
       "      <td>15-bw000nv (E2-9000e/4GB/500GB/Radeon</td>\n",
       "      <td>Notebook</td>\n",
       "      <td>15.6</td>\n",
       "      <td>Full HD 1920x1080</td>\n",
       "      <td>AMD E-Series E2-9000e 1.5GHz</td>\n",
       "      <td>4GB</td>\n",
       "      <td>500GB HDD</td>\n",
       "      <td>AMD Radeon R2</td>\n",
       "      <td>Windows 10</td>\n",
       "      <td>2.1kg</td>\n",
       "      <td>4</td>\n",
       "      <td>8</td>\n",
       "    </tr>\n",
       "    <tr>\n",
       "      <th>2</th>\n",
       "      <td>1157</td>\n",
       "      <td>1175</td>\n",
       "      <td>Lenovo</td>\n",
       "      <td>ThinkPad T460s</td>\n",
       "      <td>Ultrabook</td>\n",
       "      <td>14.0</td>\n",
       "      <td>Full HD 1920x1080</td>\n",
       "      <td>Intel Core i7 6600U 2.6GHz</td>\n",
       "      <td>12GB</td>\n",
       "      <td>512GB SSD</td>\n",
       "      <td>Intel HD Graphics 520</td>\n",
       "      <td>Windows 7</td>\n",
       "      <td>1.4kg</td>\n",
       "      <td>12</td>\n",
       "      <td>8</td>\n",
       "    </tr>\n",
       "  </tbody>\n",
       "</table>\n",
       "</div>"
      ],
      "text/plain": [
       "     id  laptop_ID Company                                Product   TypeName  \\\n",
       "0   824        833  Lenovo                            ThinkPad X1  Ultrabook   \n",
       "1   101        104      HP  15-bw000nv (E2-9000e/4GB/500GB/Radeon   Notebook   \n",
       "2  1157       1175  Lenovo                         ThinkPad T460s  Ultrabook   \n",
       "\n",
       "   Inches             ScreenResolution                           Cpu   Ram  \\\n",
       "0    14.0  IPS Panel Full HD 1920x1080    Intel Core i5 7200U 2.5GHz   8GB   \n",
       "1    15.6            Full HD 1920x1080  AMD E-Series E2-9000e 1.5GHz   4GB   \n",
       "2    14.0            Full HD 1920x1080    Intel Core i7 6600U 2.6GHz  12GB   \n",
       "\n",
       "                Memory                    Gpu       OpSys  Weight  Ram_Int  \\\n",
       "0  256GB Flash Storage  Intel HD Graphics 620  Windows 10  1.13kg        8   \n",
       "1            500GB HDD          AMD Radeon R2  Windows 10   2.1kg        4   \n",
       "2            512GB SSD  Intel HD Graphics 520   Windows 7   1.4kg       12   \n",
       "\n",
       "   ScreenResolution_int  \n",
       "0                    14  \n",
       "1                     8  \n",
       "2                     8  "
      ]
     },
     "execution_count": 112,
     "metadata": {},
     "output_type": "execute_result"
    }
   ],
   "source": [
    "from sklearn.preprocessing import LabelEncoder\n",
    "\n",
    "le = LabelEncoder()\n",
    "test['ScreenResolution_int'] = le.fit_transform(test['ScreenResolution'])\n",
    "test.head(3)"
   ]
  },
  {
   "cell_type": "code",
   "execution_count": 113,
   "metadata": {},
   "outputs": [
    {
     "data": {
      "text/html": [
       "<div>\n",
       "<style scoped>\n",
       "    .dataframe tbody tr th:only-of-type {\n",
       "        vertical-align: middle;\n",
       "    }\n",
       "\n",
       "    .dataframe tbody tr th {\n",
       "        vertical-align: top;\n",
       "    }\n",
       "\n",
       "    .dataframe thead th {\n",
       "        text-align: right;\n",
       "    }\n",
       "</style>\n",
       "<table border=\"1\" class=\"dataframe\">\n",
       "  <thead>\n",
       "    <tr style=\"text-align: right;\">\n",
       "      <th></th>\n",
       "      <th>id</th>\n",
       "      <th>laptop_ID</th>\n",
       "      <th>Company</th>\n",
       "      <th>Product</th>\n",
       "      <th>TypeName</th>\n",
       "      <th>Inches</th>\n",
       "      <th>ScreenResolution</th>\n",
       "      <th>Cpu</th>\n",
       "      <th>Ram</th>\n",
       "      <th>Memory</th>\n",
       "      <th>Gpu</th>\n",
       "      <th>OpSys</th>\n",
       "      <th>Weight</th>\n",
       "      <th>Ram_Int</th>\n",
       "      <th>ScreenResolution_int</th>\n",
       "      <th>Cpu_int</th>\n",
       "    </tr>\n",
       "  </thead>\n",
       "  <tbody>\n",
       "    <tr>\n",
       "      <th>0</th>\n",
       "      <td>824</td>\n",
       "      <td>833</td>\n",
       "      <td>Lenovo</td>\n",
       "      <td>ThinkPad X1</td>\n",
       "      <td>Ultrabook</td>\n",
       "      <td>14.0</td>\n",
       "      <td>IPS Panel Full HD 1920x1080</td>\n",
       "      <td>Intel Core i5 7200U 2.5GHz</td>\n",
       "      <td>8GB</td>\n",
       "      <td>256GB Flash Storage</td>\n",
       "      <td>Intel HD Graphics 620</td>\n",
       "      <td>Windows 10</td>\n",
       "      <td>1.13kg</td>\n",
       "      <td>8</td>\n",
       "      <td>14</td>\n",
       "      <td>38</td>\n",
       "    </tr>\n",
       "    <tr>\n",
       "      <th>1</th>\n",
       "      <td>101</td>\n",
       "      <td>104</td>\n",
       "      <td>HP</td>\n",
       "      <td>15-bw000nv (E2-9000e/4GB/500GB/Radeon</td>\n",
       "      <td>Notebook</td>\n",
       "      <td>15.6</td>\n",
       "      <td>Full HD 1920x1080</td>\n",
       "      <td>AMD E-Series E2-9000e 1.5GHz</td>\n",
       "      <td>4GB</td>\n",
       "      <td>500GB HDD</td>\n",
       "      <td>AMD Radeon R2</td>\n",
       "      <td>Windows 10</td>\n",
       "      <td>2.1kg</td>\n",
       "      <td>4</td>\n",
       "      <td>8</td>\n",
       "      <td>8</td>\n",
       "    </tr>\n",
       "    <tr>\n",
       "      <th>2</th>\n",
       "      <td>1157</td>\n",
       "      <td>1175</td>\n",
       "      <td>Lenovo</td>\n",
       "      <td>ThinkPad T460s</td>\n",
       "      <td>Ultrabook</td>\n",
       "      <td>14.0</td>\n",
       "      <td>Full HD 1920x1080</td>\n",
       "      <td>Intel Core i7 6600U 2.6GHz</td>\n",
       "      <td>12GB</td>\n",
       "      <td>512GB SSD</td>\n",
       "      <td>Intel HD Graphics 520</td>\n",
       "      <td>Windows 7</td>\n",
       "      <td>1.4kg</td>\n",
       "      <td>12</td>\n",
       "      <td>8</td>\n",
       "      <td>49</td>\n",
       "    </tr>\n",
       "  </tbody>\n",
       "</table>\n",
       "</div>"
      ],
      "text/plain": [
       "     id  laptop_ID Company                                Product   TypeName  \\\n",
       "0   824        833  Lenovo                            ThinkPad X1  Ultrabook   \n",
       "1   101        104      HP  15-bw000nv (E2-9000e/4GB/500GB/Radeon   Notebook   \n",
       "2  1157       1175  Lenovo                         ThinkPad T460s  Ultrabook   \n",
       "\n",
       "   Inches             ScreenResolution                           Cpu   Ram  \\\n",
       "0    14.0  IPS Panel Full HD 1920x1080    Intel Core i5 7200U 2.5GHz   8GB   \n",
       "1    15.6            Full HD 1920x1080  AMD E-Series E2-9000e 1.5GHz   4GB   \n",
       "2    14.0            Full HD 1920x1080    Intel Core i7 6600U 2.6GHz  12GB   \n",
       "\n",
       "                Memory                    Gpu       OpSys  Weight  Ram_Int  \\\n",
       "0  256GB Flash Storage  Intel HD Graphics 620  Windows 10  1.13kg        8   \n",
       "1            500GB HDD          AMD Radeon R2  Windows 10   2.1kg        4   \n",
       "2            512GB SSD  Intel HD Graphics 520   Windows 7   1.4kg       12   \n",
       "\n",
       "   ScreenResolution_int  Cpu_int  \n",
       "0                    14       38  \n",
       "1                     8        8  \n",
       "2                     8       49  "
      ]
     },
     "execution_count": 113,
     "metadata": {},
     "output_type": "execute_result"
    }
   ],
   "source": [
    "from sklearn.preprocessing import LabelEncoder\n",
    "\n",
    "le = LabelEncoder()\n",
    "test['Cpu_int'] = le.fit_transform(test['Cpu'])\n",
    "test.head(3)"
   ]
  },
  {
   "cell_type": "code",
   "execution_count": 114,
   "metadata": {},
   "outputs": [
    {
     "data": {
      "text/plain": [
       "Nvidia GeForce GTX 1050           0.234234\n",
       "Nvidia GeForce 940MX              0.108108\n",
       "Nvidia GeForce GTX 1060           0.081081\n",
       "Nvidia GeForce GTX 960M           0.072072\n",
       "Nvidia GeForce 930MX              0.063063\n",
       "Nvidia GeForce GTX 1070           0.054054\n",
       "Nvidia GeForce MX150              0.054054\n",
       "Nvidia GeForce GTX 1050 Ti        0.045045\n",
       "Nvidia GeForce GTX 980M           0.036036\n",
       "Nvidia GeForce GTX 1080           0.027027\n",
       "Nvidia GeForce 920MX              0.027027\n",
       "Nvidia GeForce 920M               0.018018\n",
       "Nvidia GeForce 930MX              0.018018\n",
       "Nvidia GeForce GTX 965M           0.018018\n",
       "Nvidia GeForce MX130              0.018018\n",
       "Nvidia GeForce 930M               0.018018\n",
       "Nvidia GeForce GTX 970M           0.018018\n",
       "Nvidia GeForce GTX 960<U+039C>    0.009009\n",
       "Nvidia GeForce GTX 940M           0.009009\n",
       "Nvidia GeForce 940M               0.009009\n",
       "Nvidia GeForce GTX 930MX          0.009009\n",
       "Nvidia GeForce GTX 960            0.009009\n",
       "Nvidia GeForce GTX 1050M          0.009009\n",
       "Nvidia GeForce 920                0.009009\n",
       "Nvidia GeForce GTX 1070M          0.009009\n",
       "Nvidia GeForce GT 940MX           0.009009\n",
       "Nvidia GeForce 920MX              0.009009\n",
       "Name: Gpu, dtype: float64"
      ]
     },
     "execution_count": 114,
     "metadata": {},
     "output_type": "execute_result"
    }
   ],
   "source": [
    "test['Gpu_gforce'] = np.where(test['Gpu'].str.contains(\"GeForce\"), 1 , 0) #PARA CUANDO UNA COLUMNA CONTIENE CIERTA PALABRA\n",
    "test[test['Gpu_gforce']==1]['Gpu'].value_counts(normalize=True) #para contar dichos valores 1 o 0"
   ]
  },
  {
   "cell_type": "code",
   "execution_count": 115,
   "metadata": {},
   "outputs": [
    {
     "data": {
      "text/plain": [
       "Nvidia GeForce GTX 1050       0.509804\n",
       "Nvidia GeForce GTX 1060       0.176471\n",
       "Nvidia GeForce GTX 1070       0.117647\n",
       "Nvidia GeForce GTX 1050 Ti    0.098039\n",
       "Nvidia GeForce GTX 1080       0.058824\n",
       "Nvidia GeForce GTX 1070M      0.019608\n",
       "Nvidia GeForce GTX 1050M      0.019608\n",
       "Name: Gpu, dtype: float64"
      ]
     },
     "execution_count": 115,
     "metadata": {},
     "output_type": "execute_result"
    }
   ],
   "source": [
    "test['Gpu_10'] = np.where(test['Gpu'].str.contains(\"GTX 10\"), 1 , 0) #PARA CUANDO UNA COLUMNA CONTIENE CIERTA PALABRA\n",
    "test[test['Gpu_10']==1]['Gpu'].value_counts(normalize=True) #para contar dichos valores 1 o 0"
   ]
  },
  {
   "cell_type": "code",
   "execution_count": 116,
   "metadata": {},
   "outputs": [
    {
     "data": {
      "text/plain": [
       "Gaming    1.0\n",
       "Name: TypeName, dtype: float64"
      ]
     },
     "execution_count": 116,
     "metadata": {},
     "output_type": "execute_result"
    }
   ],
   "source": [
    "test['TypeName_Gaming'] = np.where(test['TypeName'].str.contains(\"Gaming\"), 1 , 0) #PARA CUANDO UNA COLUMNA CONTIENE CIERTA PALABRA\n",
    "test[test['TypeName_Gaming']==1]['TypeName'].value_counts(normalize=True) #para contar dichos valores 1 o 0"
   ]
  },
  {
   "cell_type": "code",
   "execution_count": 117,
   "metadata": {},
   "outputs": [
    {
     "data": {
      "text/plain": [
       "AMD A6-Series 9220 2.5GHz          0.2500\n",
       "AMD E-Series E2-9000e 1.5GHz       0.1250\n",
       "AMD Ryzen 1700 3GHz                0.0625\n",
       "AMD A9-Series 9410 2.9GHz          0.0625\n",
       "AMD A12-Series 9720P 2.7GHz        0.0625\n",
       "AMD A12-Series 9700P 2.5GHz        0.0625\n",
       "AMD A9-Series 9420 3GHz            0.0625\n",
       "AMD A10-Series A10-9620P 2.5GHz    0.0625\n",
       "AMD A10-Series 9620P 2.5GHz        0.0625\n",
       "AMD FX 9830P 3GHz                  0.0625\n",
       "AMD FX 8800P 2.1GHz                0.0625\n",
       "AMD A10-Series 9600P 2.4GHz        0.0625\n",
       "Name: Cpu, dtype: float64"
      ]
     },
     "execution_count": 117,
     "metadata": {},
     "output_type": "execute_result"
    }
   ],
   "source": [
    "test['Cpu_intel'] = np.where(test['Cpu'].str.contains(\"AMD\"), 1 , 0) #PARA CUANDO UNA COLUMNA CONTIENE CIERTA PALABRA\n",
    "test[test['Cpu_intel']==1]['Cpu'].value_counts(normalize=True) #para contar dichos valores 1 o 0"
   ]
  },
  {
   "cell_type": "code",
   "execution_count": 118,
   "metadata": {},
   "outputs": [
    {
     "data": {
      "text/plain": [
       "Intel Core i7 7500U 2.7GHz     0.291925\n",
       "Intel Core i7 7700HQ 2.8GHz    0.242236\n",
       "Intel Core i7 8550U 1.8GHz     0.167702\n",
       "Intel Core i7 6700HQ 2.6GHz    0.099379\n",
       "Intel Core i7 6500U 2.5GHz     0.080745\n",
       "Intel Core i7 6600U 2.6GHz     0.037267\n",
       "Intel Core i7 6820HK 2.7GHz    0.012422\n",
       "Intel Core i7 7600U 2.8GHz     0.012422\n",
       "Intel Core i7 7820HK 2.9GHz    0.012422\n",
       "Intel Core i7 6820HQ 2.7GHz    0.012422\n",
       "Intel Core i7 6560U 2.2GHz     0.006211\n",
       "Intel Core i7 7Y75 1.3GHz      0.006211\n",
       "Intel Core i7 6500U 2.50GHz    0.006211\n",
       "Intel Core i7 7820HQ 2.9GHz    0.006211\n",
       "Intel Core i7 2.7GHz           0.006211\n",
       "Name: Cpu, dtype: float64"
      ]
     },
     "execution_count": 118,
     "metadata": {},
     "output_type": "execute_result"
    }
   ],
   "source": [
    "test['Cpu_i7'] = np.where(test['Cpu'].str.contains(\"i7\"), 1 , 0) #PARA CUANDO UNA COLUMNA CONTIENE CIERTA PALABRA\n",
    "test[test['Cpu_i7']==1]['Cpu'].value_counts(normalize=True) #para contar dichos valores 1 o 0"
   ]
  },
  {
   "cell_type": "code",
   "execution_count": 119,
   "metadata": {},
   "outputs": [],
   "source": [
    "test['hz'] = test['Cpu'].str.split().str[-1] #para coger solo la palabra de x.xHz"
   ]
  },
  {
   "cell_type": "code",
   "execution_count": 120,
   "metadata": {},
   "outputs": [],
   "source": [
    "test['hz_int'] = test['hz'].str[0:-3].astype('float')"
   ]
  },
  {
   "cell_type": "code",
   "execution_count": 121,
   "metadata": {},
   "outputs": [],
   "source": [
    "X = test.loc[:,['Ram_Int', 'ScreenResolution_int', 'Cpu_int', 'Gpu_gforce', 'Gpu_10', 'TypeName_Gaming', 'Cpu_intel', 'Cpu_i7', 'hz_int']]\n",
    "#y=train.loc[:,['SalePrice']]"
   ]
  },
  {
   "cell_type": "code",
   "execution_count": 122,
   "metadata": {},
   "outputs": [
    {
     "data": {
      "text/plain": [
       "Ram_Int                 0\n",
       "ScreenResolution_int    0\n",
       "Cpu_int                 0\n",
       "Gpu_gforce              0\n",
       "Gpu_10                  0\n",
       "TypeName_Gaming         0\n",
       "Cpu_intel               0\n",
       "Cpu_i7                  0\n",
       "hz_int                  0\n",
       "dtype: int64"
      ]
     },
     "execution_count": 122,
     "metadata": {},
     "output_type": "execute_result"
    }
   ],
   "source": [
    "X.isna().sum() #esto es para chekear"
   ]
  },
  {
   "cell_type": "code",
   "execution_count": 123,
   "metadata": {},
   "outputs": [],
   "source": [
    "predicciones = lm.predict(X)"
   ]
  },
  {
   "cell_type": "code",
   "execution_count": 124,
   "metadata": {},
   "outputs": [],
   "source": [
    "#para hacer el dataframe final\n",
    "DTpredicciones = pd.DataFrame(predicciones)\n",
    "DTpredicciones.reset_index(drop=True, inplace=True) #para que se quiten los indices\n",
    "id = test.loc[:, ['id']]\n",
    "id.reset_index(drop=True, inplace=True)\n",
    "df_entrega = id.join(DTpredicciones) #unir"
   ]
  },
  {
   "cell_type": "code",
   "execution_count": 125,
   "metadata": {},
   "outputs": [
    {
     "name": "stdout",
     "output_type": "stream",
     "text": [
      "<class 'pandas.core.frame.DataFrame'>\n",
      "RangeIndex: 391 entries, 0 to 390\n",
      "Data columns (total 2 columns):\n",
      " #   Column  Non-Null Count  Dtype  \n",
      "---  ------  --------------  -----  \n",
      " 0   id      391 non-null    int64  \n",
      " 1   0       391 non-null    float64\n",
      "dtypes: float64(1), int64(1)\n",
      "memory usage: 6.2 KB\n"
     ]
    }
   ],
   "source": [
    "df_entrega.info()"
   ]
  },
  {
   "cell_type": "code",
   "execution_count": 126,
   "metadata": {},
   "outputs": [
    {
     "data": {
      "text/html": [
       "<div>\n",
       "<style scoped>\n",
       "    .dataframe tbody tr th:only-of-type {\n",
       "        vertical-align: middle;\n",
       "    }\n",
       "\n",
       "    .dataframe tbody tr th {\n",
       "        vertical-align: top;\n",
       "    }\n",
       "\n",
       "    .dataframe thead th {\n",
       "        text-align: right;\n",
       "    }\n",
       "</style>\n",
       "<table border=\"1\" class=\"dataframe\">\n",
       "  <thead>\n",
       "    <tr style=\"text-align: right;\">\n",
       "      <th></th>\n",
       "      <th>id</th>\n",
       "      <th>0</th>\n",
       "    </tr>\n",
       "  </thead>\n",
       "  <tbody>\n",
       "    <tr>\n",
       "      <th>0</th>\n",
       "      <td>824</td>\n",
       "      <td>1083.426087</td>\n",
       "    </tr>\n",
       "    <tr>\n",
       "      <th>1</th>\n",
       "      <td>101</td>\n",
       "      <td>181.745495</td>\n",
       "    </tr>\n",
       "    <tr>\n",
       "      <th>2</th>\n",
       "      <td>1157</td>\n",
       "      <td>1478.568974</td>\n",
       "    </tr>\n",
       "    <tr>\n",
       "      <th>3</th>\n",
       "      <td>940</td>\n",
       "      <td>827.526750</td>\n",
       "    </tr>\n",
       "    <tr>\n",
       "      <th>4</th>\n",
       "      <td>853</td>\n",
       "      <td>1099.726952</td>\n",
       "    </tr>\n",
       "  </tbody>\n",
       "</table>\n",
       "</div>"
      ],
      "text/plain": [
       "     id            0\n",
       "0   824  1083.426087\n",
       "1   101   181.745495\n",
       "2  1157  1478.568974\n",
       "3   940   827.526750\n",
       "4   853  1099.726952"
      ]
     },
     "execution_count": 126,
     "metadata": {},
     "output_type": "execute_result"
    }
   ],
   "source": [
    "df_entrega.head()"
   ]
  },
  {
   "cell_type": "code",
   "execution_count": 127,
   "metadata": {},
   "outputs": [],
   "source": [
    "df_entrega.columns = ['id', 'Price_euros'] #para cambiar las columnas"
   ]
  },
  {
   "cell_type": "code",
   "execution_count": 128,
   "metadata": {},
   "outputs": [
    {
     "data": {
      "text/html": [
       "<div>\n",
       "<style scoped>\n",
       "    .dataframe tbody tr th:only-of-type {\n",
       "        vertical-align: middle;\n",
       "    }\n",
       "\n",
       "    .dataframe tbody tr th {\n",
       "        vertical-align: top;\n",
       "    }\n",
       "\n",
       "    .dataframe thead th {\n",
       "        text-align: right;\n",
       "    }\n",
       "</style>\n",
       "<table border=\"1\" class=\"dataframe\">\n",
       "  <thead>\n",
       "    <tr style=\"text-align: right;\">\n",
       "      <th></th>\n",
       "      <th>id</th>\n",
       "      <th>Price_euros</th>\n",
       "    </tr>\n",
       "  </thead>\n",
       "  <tbody>\n",
       "    <tr>\n",
       "      <th>0</th>\n",
       "      <td>824</td>\n",
       "      <td>1083.426087</td>\n",
       "    </tr>\n",
       "    <tr>\n",
       "      <th>1</th>\n",
       "      <td>101</td>\n",
       "      <td>181.745495</td>\n",
       "    </tr>\n",
       "    <tr>\n",
       "      <th>2</th>\n",
       "      <td>1157</td>\n",
       "      <td>1478.568974</td>\n",
       "    </tr>\n",
       "    <tr>\n",
       "      <th>3</th>\n",
       "      <td>940</td>\n",
       "      <td>827.526750</td>\n",
       "    </tr>\n",
       "    <tr>\n",
       "      <th>4</th>\n",
       "      <td>853</td>\n",
       "      <td>1099.726952</td>\n",
       "    </tr>\n",
       "  </tbody>\n",
       "</table>\n",
       "</div>"
      ],
      "text/plain": [
       "     id  Price_euros\n",
       "0   824  1083.426087\n",
       "1   101   181.745495\n",
       "2  1157  1478.568974\n",
       "3   940   827.526750\n",
       "4   853  1099.726952"
      ]
     },
     "execution_count": 128,
     "metadata": {},
     "output_type": "execute_result"
    }
   ],
   "source": [
    "df_entrega.head()"
   ]
  },
  {
   "cell_type": "code",
   "execution_count": 129,
   "metadata": {},
   "outputs": [],
   "source": [
    "df_entrega.to_csv('sample_submission.csv', index=False) #para pasar el dataframe a csv"
   ]
  }
 ],
 "metadata": {
  "kernelspec": {
   "display_name": "Python 3",
   "language": "python",
   "name": "python3"
  },
  "language_info": {
   "codemirror_mode": {
    "name": "ipython",
    "version": 3
   },
   "file_extension": ".py",
   "mimetype": "text/x-python",
   "name": "python",
   "nbconvert_exporter": "python",
   "pygments_lexer": "ipython3",
   "version": "3.11.4"
  },
  "orig_nbformat": 4
 },
 "nbformat": 4,
 "nbformat_minor": 2
}
